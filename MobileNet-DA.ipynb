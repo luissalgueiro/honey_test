{
 "cells": [
  {
   "cell_type": "code",
   "execution_count": 16,
   "id": "c64e8423-696e-40f8-af48-051a8472a5ef",
   "metadata": {},
   "outputs": [
    {
     "name": "stdout",
     "output_type": "stream",
     "text": [
      "Using 1 GPUS\n"
     ]
    }
   ],
   "source": [
    "import numpy as np\n",
    "import matplotlib.pyplot as plt\n",
    "import pandas as pd\n",
    "import os\n",
    "import cv2\n",
    "\n",
    "from sklearn.model_selection import train_test_split\n",
    "\n",
    "import torch \n",
    "import torch.nn as nn\n",
    "from torch.utils.data import DataLoader, Dataset\n",
    "import pytorch_lightning as pl\n",
    "import albumentations\n",
    "\n",
    "from sklearn.metrics import classification_report\n",
    "from sklearn.metrics import f1_score\n",
    "from torchmetrics import F1\n",
    "from pytorch_toolbelt import losses as L\n",
    "import timm\n",
    "\n",
    "from pytorch_lightning.callbacks import LearningRateMonitor\n",
    "from pytorch_lightning.callbacks.early_stopping import EarlyStopping\n",
    "from torch.optim.lr_scheduler import StepLR, MultiStepLR, CosineAnnealingWarmRestarts, ReduceLROnPlateau\n",
    "from pytorch_lightning.callbacks import ModelCheckpoint \n",
    "import torch.nn.functional as F\n",
    "from torch.utils.data import WeightedRandomSampler\n",
    "from sklearn.metrics import roc_auc_score\n",
    "from sklearn.metrics import confusion_matrix\n",
    "import seaborn as sns\n",
    "\n",
    "from pytorch_toolbelt import losses as L\n",
    "\n",
    "gpu = 1 if torch.cuda.is_available() else 0\n",
    "print(f'Using {gpu} GPUS')\n",
    "\n",
    "\n",
    "import warnings\n",
    "warnings.filterwarnings('ignore')"
   ]
  },
  {
   "cell_type": "code",
   "execution_count": 2,
   "id": "3da888e3-d6c7-4355-b766-14eed6f0e693",
   "metadata": {},
   "outputs": [
    {
     "name": "stdout",
     "output_type": "stream",
     "text": [
      "['Eucalyptus sp.', 'Brassica', 'Taraxacum', 'Rosmarinus officinalis', 'Tilia', 'Erica.m', 'Lavandula', 'Cistus sp', 'Pinus', 'Cardus', 'Citrus sp', 'Helianthus annuus']\n"
     ]
    }
   ],
   "source": [
    "root_path = '/mnt/gpid08/datasets/remote_sensing/tmp_from_gpid07/honey/datasets/'\n",
    "print(os.listdir(root_path))"
   ]
  },
  {
   "cell_type": "code",
   "execution_count": 3,
   "id": "a50fdc5e-9ca7-4f08-bd3d-5618bce52a12",
   "metadata": {},
   "outputs": [],
   "source": [
    "df_train = pd.read_csv('List_train.csv')\n",
    "df_val = pd.read_csv('List_val.csv')\n",
    "df_test = pd.read_csv('List_test.csv')"
   ]
  },
  {
   "cell_type": "code",
   "execution_count": 4,
   "id": "3da9842e-6346-4e9f-950e-4525cc07c463",
   "metadata": {},
   "outputs": [
    {
     "data": {
      "text/html": [
       "<div>\n",
       "<style scoped>\n",
       "    .dataframe tbody tr th:only-of-type {\n",
       "        vertical-align: middle;\n",
       "    }\n",
       "\n",
       "    .dataframe tbody tr th {\n",
       "        vertical-align: top;\n",
       "    }\n",
       "\n",
       "    .dataframe thead tr th {\n",
       "        text-align: left;\n",
       "    }\n",
       "\n",
       "    .dataframe thead tr:last-of-type th {\n",
       "        text-align: right;\n",
       "    }\n",
       "</style>\n",
       "<table border=\"1\" class=\"dataframe\">\n",
       "  <thead>\n",
       "    <tr>\n",
       "      <th></th>\n",
       "      <th>Unnamed: 0</th>\n",
       "      <th>name</th>\n",
       "      <th>weights</th>\n",
       "      <th>weights_norm</th>\n",
       "    </tr>\n",
       "    <tr>\n",
       "      <th></th>\n",
       "      <th>count</th>\n",
       "      <th>count</th>\n",
       "      <th></th>\n",
       "      <th></th>\n",
       "    </tr>\n",
       "    <tr>\n",
       "      <th>labels</th>\n",
       "      <th></th>\n",
       "      <th></th>\n",
       "      <th></th>\n",
       "      <th></th>\n",
       "    </tr>\n",
       "  </thead>\n",
       "  <tbody>\n",
       "    <tr>\n",
       "      <th>Brassica</th>\n",
       "      <td>1198</td>\n",
       "      <td>1198</td>\n",
       "      <td>0.000851</td>\n",
       "      <td>0.029288</td>\n",
       "    </tr>\n",
       "    <tr>\n",
       "      <th>Cardus</th>\n",
       "      <td>161</td>\n",
       "      <td>161</td>\n",
       "      <td>0.006335</td>\n",
       "      <td>0.217930</td>\n",
       "    </tr>\n",
       "    <tr>\n",
       "      <th>Cistus sp</th>\n",
       "      <td>589</td>\n",
       "      <td>589</td>\n",
       "      <td>0.001732</td>\n",
       "      <td>0.059570</td>\n",
       "    </tr>\n",
       "    <tr>\n",
       "      <th>Citrus sp</th>\n",
       "      <td>447</td>\n",
       "      <td>447</td>\n",
       "      <td>0.002282</td>\n",
       "      <td>0.078494</td>\n",
       "    </tr>\n",
       "    <tr>\n",
       "      <th>Erica.m</th>\n",
       "      <td>1576</td>\n",
       "      <td>1576</td>\n",
       "      <td>0.000647</td>\n",
       "      <td>0.022263</td>\n",
       "    </tr>\n",
       "    <tr>\n",
       "      <th>Eucalyptus sp.</th>\n",
       "      <td>807</td>\n",
       "      <td>807</td>\n",
       "      <td>0.001264</td>\n",
       "      <td>0.043478</td>\n",
       "    </tr>\n",
       "    <tr>\n",
       "      <th>Helianthus annuus</th>\n",
       "      <td>780</td>\n",
       "      <td>780</td>\n",
       "      <td>0.001308</td>\n",
       "      <td>0.044983</td>\n",
       "    </tr>\n",
       "    <tr>\n",
       "      <th>Lavandula</th>\n",
       "      <td>636</td>\n",
       "      <td>636</td>\n",
       "      <td>0.001604</td>\n",
       "      <td>0.055168</td>\n",
       "    </tr>\n",
       "    <tr>\n",
       "      <th>Pinus</th>\n",
       "      <td>241</td>\n",
       "      <td>241</td>\n",
       "      <td>0.004232</td>\n",
       "      <td>0.145588</td>\n",
       "    </tr>\n",
       "    <tr>\n",
       "      <th>Rosmarinus officinalis</th>\n",
       "      <td>444</td>\n",
       "      <td>444</td>\n",
       "      <td>0.002297</td>\n",
       "      <td>0.079024</td>\n",
       "    </tr>\n",
       "    <tr>\n",
       "      <th>Taraxacum</th>\n",
       "      <td>215</td>\n",
       "      <td>215</td>\n",
       "      <td>0.004744</td>\n",
       "      <td>0.163194</td>\n",
       "    </tr>\n",
       "    <tr>\n",
       "      <th>Tilia</th>\n",
       "      <td>575</td>\n",
       "      <td>575</td>\n",
       "      <td>0.001774</td>\n",
       "      <td>0.061020</td>\n",
       "    </tr>\n",
       "  </tbody>\n",
       "</table>\n",
       "</div>"
      ],
      "text/plain": [
       "                       Unnamed: 0  name   weights weights_norm\n",
       "                            count count                       \n",
       "labels                                                        \n",
       "Brassica                     1198  1198  0.000851     0.029288\n",
       "Cardus                        161   161  0.006335     0.217930\n",
       "Cistus sp                     589   589  0.001732     0.059570\n",
       "Citrus sp                     447   447  0.002282     0.078494\n",
       "Erica.m                      1576  1576  0.000647     0.022263\n",
       "Eucalyptus sp.                807   807  0.001264     0.043478\n",
       "Helianthus annuus             780   780  0.001308     0.044983\n",
       "Lavandula                     636   636  0.001604     0.055168\n",
       "Pinus                         241   241  0.004232     0.145588\n",
       "Rosmarinus officinalis        444   444  0.002297     0.079024\n",
       "Taraxacum                     215   215  0.004744     0.163194\n",
       "Tilia                         575   575  0.001774     0.061020"
      ]
     },
     "execution_count": 4,
     "metadata": {},
     "output_type": "execute_result"
    }
   ],
   "source": [
    "count_train = df_train.groupby('labels').agg({'count'})\n",
    "count_train['weights'] = 1.02/count_train['name']\n",
    "count_train['weights_norm'] = count_train['weights']/count_train['weights'].sum()\n",
    "# count_train['weights_nor'].sum()\n",
    "count_train"
   ]
  },
  {
   "cell_type": "code",
   "execution_count": 5,
   "id": "44d19ae7-3b10-4ab1-ac38-9c58e6eafeea",
   "metadata": {},
   "outputs": [
    {
     "data": {
      "text/plain": [
       "tensor([0.1456, 0.0223, 0.0596, 0.0552, 0.0785, 0.0450, 0.0435, 0.0790, 0.0293,\n",
       "        0.2179, 0.0610, 0.1632])"
      ]
     },
     "execution_count": 5,
     "metadata": {},
     "output_type": "execute_result"
    }
   ],
   "source": [
    "# self.classes = ['Pinus','Erica.m', 'Cistus sp', 'Lavandula', 'Citrus sp', 'Helianthus annuus',\n",
    "#                 'Eucalyptus sp.', 'Rosmarinus officinalis', 'Brassica', 'Cardus', 'Tilia', 'Taraxacum']\n",
    "class_weights=torch.Tensor([count_train.loc['Pinus','weights_norm'].item(),\n",
    "                      count_train.loc['Erica.m','weights_norm'].item(),\n",
    "                      count_train.loc['Cistus sp','weights_norm'].item(),\n",
    "                      count_train.loc['Lavandula','weights_norm'].item(),\n",
    "                      count_train.loc['Citrus sp','weights_norm'].item(),\n",
    "                      count_train.loc['Helianthus annuus','weights_norm'].item(),\n",
    "                      count_train.loc['Eucalyptus sp.','weights_norm'].item(),\n",
    "                      count_train.loc['Rosmarinus officinalis','weights_norm'].item(),\n",
    "                      count_train.loc['Brassica','weights_norm'].item(),\n",
    "                      count_train.loc['Cardus','weights_norm'].item(),\n",
    "                      count_train.loc['Tilia','weights_norm'].item(),\n",
    "                      count_train.loc['Taraxacum','weights_norm'].item(),\n",
    "                      ])\n",
    "class_weights"
   ]
  },
  {
   "cell_type": "markdown",
   "id": "caaff23d-df70-4df0-95f6-cf9fd90a821f",
   "metadata": {},
   "source": [
    "## Weighted Sampler"
   ]
  },
  {
   "cell_type": "code",
   "execution_count": 6,
   "id": "508e1392-62ad-4d0b-a9ea-76bdc7621dde",
   "metadata": {},
   "outputs": [
    {
     "name": "stdout",
     "output_type": "stream",
     "text": [
      "torch.Size([7669])\n"
     ]
    }
   ],
   "source": [
    "\n",
    "\n",
    "samples_weight = np.array([count_train.loc[t,'weights_norm'].item() for t in df_train['labels']])\n",
    "samples_weight=torch.from_numpy(samples_weight)\n",
    "\n",
    "print(samples_weight.shape)\n",
    "\n",
    "sampler = WeightedRandomSampler(samples_weight, len(samples_weight))\n"
   ]
  },
  {
   "cell_type": "code",
   "execution_count": null,
   "id": "025c1647-964b-40c9-bc0e-442b3e8ed7b2",
   "metadata": {},
   "outputs": [],
   "source": []
  },
  {
   "cell_type": "code",
   "execution_count": 36,
   "id": "1f5c2b79-f6bb-4903-96df-87924460c01d",
   "metadata": {},
   "outputs": [],
   "source": [
    "# From https://juansensio.com/blog/062_multihead_attention\n",
    "class Dataset(torch.utils.data.Dataset):\n",
    "    def __init__(self, mode, df):\n",
    "        self.mode = mode\n",
    "        self.df = df \n",
    "        self.mean_img = (0.485, 0.456, 0.406 )\n",
    "        self.std_img = (0.229, 0.224, 0.225)\n",
    "        self.classes = ['Pinus','Erica.m', 'Cistus sp', 'Lavandula', 'Citrus sp', 'Helianthus annuus',\n",
    "                        'Eucalyptus sp.', 'Rosmarinus officinalis', 'Brassica', 'Cardus', 'Tilia', 'Taraxacum']\n",
    "    def __crop_padding(self,img):\n",
    "        ## convert to gray\n",
    "        img_gray = cv2.cvtColor(img, cv2.COLOR_RGB2GRAY)\n",
    "        ## set threshold for 0\n",
    "        _,thresh = cv2.threshold(img_gray,10,255,cv2.THRESH_BINARY)\n",
    "        ## find contours\n",
    "        contours, hierarchy = cv2.findContours(thresh,cv2.RETR_EXTERNAL,cv2.CHAIN_APPROX_SIMPLE)\n",
    "        cnt = contours[0]\n",
    "        x,y,w,h = cv2.boundingRect(cnt)\n",
    "        crop = img[y:y+h,x:x+w,:]\n",
    "        return crop\n",
    "    def __getitem__(self, index):\n",
    "        name_img = self.df['name'].iloc[index]\n",
    "        label    = self.df['labels'].iloc[index]\n",
    "        ## READ IMAGE\n",
    "        image = plt.imread(name_img)\n",
    "        image = self.__crop_padding(image)\n",
    "        target = torch.tensor(self.classes.index(label))\n",
    "        # print(f'Image shape: {image.shape} \\t Target:{target}')\n",
    "        if self.mode=='train':\n",
    "            train_augm = albumentations.Compose(\n",
    "              [\n",
    "                  albumentations.Resize(height=320,width=320),\n",
    "                  albumentations.Normalize(self.mean_img, self.std_img, max_pixel_value=255.0, always_apply=True),\n",
    "                  albumentations.ShiftScaleRotate(shift_limit=0.0625, scale_limit=0.1, rotate_limit=15),\n",
    "                  albumentations.HorizontalFlip(p=0.5),\n",
    "                  albumentations.VerticalFlip(p=0.5),\n",
    "              ]\n",
    "            )\n",
    "            transformed = train_augm(image=image)\n",
    "            image=transformed['image']\n",
    "        else:\n",
    "            valid_augm = albumentations.Compose(\n",
    "              [\n",
    "               albumentations.Resize(height=320,width=320),\n",
    "               albumentations.Normalize(self.mean_img, self.std_img, max_pixel_value=255.0, always_apply=True)\n",
    "              ]\n",
    "            )\n",
    "            transformed = valid_augm(image=image)\n",
    "            image=transformed['image']\n",
    "        image = torch.from_numpy(image.transpose()).float()\n",
    "        target_oh = torch.nn.functional.one_hot(target, num_classes=12).float()\n",
    "        data = {\"image\":image,\n",
    "                \"target_oh\":target_oh,\n",
    "                'target':target,\n",
    "                'class_name':label } \n",
    "        # print(f'Image shape: {image.shape} \\t Target:{target}')\n",
    "        return data\n",
    "    def __len__(self):\n",
    "        return len(self.df)\n",
    "\n",
    "class HoneyDataModule(pl.LightningDataModule):\n",
    "    def __init__(self, batch_size: int = 4, Dataset = Dataset):\n",
    "        super().__init__()\n",
    "        self.batch_size = batch_size\n",
    "        self.Dataset = Dataset\n",
    "        self.train_ds =  self.Dataset(mode='train',df= df_train)\n",
    "        self.val_ds   =  self.Dataset(mode='val', df= df_val)\n",
    "        self.test_ds   =  self.Dataset(mode='test', df= df_test)\n",
    "    def train_dataloader(self):\n",
    "        return DataLoader(self.train_ds,\n",
    "                          batch_size=8,\n",
    "                          # shuffle=True,\n",
    "                          num_workers=0,\n",
    "                          pin_memory=True,\n",
    "                          drop_last=True,\n",
    "                          sampler=sampler\n",
    "                          )\n",
    "    def val_dataloader(self):\n",
    "        return DataLoader(self.val_ds, batch_size=4, shuffle=False, num_workers=0, pin_memory=True, drop_last=True )\n",
    "    def test_dataloader(self):\n",
    "        return DataLoader(self.test_ds, batch_size=1, shuffle=False, num_workers=0, pin_memory=True, drop_last=False )\n",
    "    \n",
    "dm = HoneyDataModule(Dataset=Dataset)"
   ]
  },
  {
   "cell_type": "code",
   "execution_count": 37,
   "id": "80562354-ca34-4778-af7f-fbe3752e4013",
   "metadata": {},
   "outputs": [],
   "source": [
    "from torchmetrics import MatthewsCorrcoef as MCC\n",
    "from torchmetrics import AUROC"
   ]
  },
  {
   "cell_type": "code",
   "execution_count": 38,
   "id": "eea7430e-4108-4174-8b18-6c9d03d9e4d9",
   "metadata": {},
   "outputs": [],
   "source": [
    "val_epoch_loss_CE, val_epoch_acc_CE = [], []\n",
    "train_epoch_loss_CE, train_epoch_acc_CE = [], []\n",
    "\n",
    "class LitModel_Focal(pl.LightningModule):\n",
    "    def __init__(self, model):\n",
    "        super().__init__( )\n",
    "        # self.save_hyperparameters()\n",
    "        self.model = model\n",
    "        # self.class_weights=class_weights.to('cuda')\n",
    "        self.focal_loss = L.FocalLoss(alpha=0.25, gamma=2)\n",
    "        # self.class_weights\n",
    "        self.f1_score = F1(num_classes=12,average='weighted')\n",
    "        # self.mcc = MCC(num_classes=12)\n",
    "        # self.auroc = AUROC(num_classes=12,average='weighted')\n",
    "        \n",
    "        \n",
    "    def forward(self, x):\n",
    "        return self.model(x)\n",
    "    def predict(self, x):\n",
    "        with torch.no_grad():\n",
    "            y_hat = self(x)\n",
    "            return y_hat\n",
    "            # return torch.argmax(y_hat, axis=1)\n",
    "    def compute_loss_and_metrics(self, batch):\n",
    "        x, y = batch['image'], batch['target']\n",
    "        # print(f'X: {x.shape} \\t Y: {y.shape}')\n",
    "        y_hat = self(x)\n",
    "        # print(f'Output: {y_hat.shape}')\n",
    "        # loss = F.cross_entropy(y_hat, y, weight=self.class_weights)\n",
    "        loss = self.focal_loss(y_hat, y)\n",
    "        # acc = (torch.argmax(y_hat, axis=1) == y).sum().item() / y.shape[0]\n",
    "        # y1 = y.detach().cpu().numpy()\n",
    "        # # print(y1.shape)\n",
    "        # mcc = self.mcc(y_hat, y)\n",
    "        # auroc = self.auroc(y_hat, y)\n",
    "        y_hat1 = torch.argmax(y_hat, axis=1)\n",
    "        # y_hat1 = y_hat1.detach().cpu().numpy()\n",
    "        # print(y_hat1.shape)\n",
    "        f1w = self.f1_score( y, y_hat1)#, average='weighted')\n",
    "        return loss, f1w#, mcc, auroc\n",
    "    def training_step(self, batch, batch_idx):\n",
    "        loss, f1w = self.compute_loss_and_metrics(batch)\n",
    "        self.log('train_loss', loss)\n",
    "        self.log('train_F1w', f1w, prog_bar=True)\n",
    "        # self.log('train_mcc', mcc, prog_bar=True)\n",
    "        # self.log('train_auroc', auroc, prog_bar=True)\n",
    "        #print(f'Training_step: loss> {loss} acc:{acc}')\n",
    "        return {'loss':loss,'f1w':torch.tensor(f1w)}#, 'mcc':torch.tensor(mcc), 'auroc':torch.tensor(auroc)}\n",
    "    \n",
    "    def training_epoch_end(self, outputs):\n",
    "        avg_train_loss = torch.stack([x['loss'] for x in outputs]).mean()\n",
    "        avg_train_f1w  = torch.stack([x['f1w'] for x in outputs]).mean()\n",
    "        # avg_train_mcc  = torch.stack([x['mcc'] for x in outputs]).mean()\n",
    "        # avg_train_auroc  = torch.stack([x['auroc'] for x in outputs]).mean()\n",
    "\n",
    "        train_epoch_loss_CE.append(avg_train_loss.item())\n",
    "        train_epoch_acc_CE.append(avg_train_f1w.item())\n",
    "        #print(f'Epoch {self.current_epoch} TrainLOSS:{avg_train_loss} TrainACC:{avg_train_acc}  ')\n",
    "    def validation_step(self, batch, batch_idx):\n",
    "        loss, f1w= self.compute_loss_and_metrics(batch)\n",
    "        self.log('val_loss', loss, prog_bar=True)\n",
    "        self.log('val_f1w', f1w, prog_bar=True)\n",
    "        # self.log('val_mcc', mcc, prog_bar=True)\n",
    "        # self.log('val_auroc', auroc, prog_bar=True)\n",
    "        \n",
    "        return {'val_loss': torch.tensor(loss.item()), 'val_f1w': torch.tensor(f1w)}#, 'val_mcc': torch.tensor(mcc), 'val_auroc': torch.tensor(auroc) }\n",
    "    def validation_epoch_end(self, outputs):\n",
    "        avg_val_loss = torch.stack([x['val_loss'] for x in outputs]).mean()\n",
    "        avg_val_f1w  = torch.stack([x['val_f1w'] for x in outputs]).mean()\n",
    "        # avg_val_mcc  = torch.stack([x['val_mcc'] for x in outputs]).mean()\n",
    "        # avg_val_auroc  = torch.stack([x['val_auroc'] for x in outputs]).mean()\n",
    "        \n",
    "        self.log('EarlyStop_Log', avg_val_loss.detach(), on_epoch=True, sync_dist=True)\n",
    "        self.log('avg_val_f1w', avg_val_f1w.detach(), on_epoch=True, sync_dist=True)\n",
    "        # self.log('avg_val_mcc', avg_val_mcc.detach(), on_epoch=True, sync_dist=True)\n",
    "        # self.log('avg_val_auroc', avg_val_auroc.detach(), on_epoch=True, sync_dist=True)\n",
    "        \n",
    "        val_epoch_loss_CE.append(avg_val_loss.item())\n",
    "        val_epoch_acc_CE.append(avg_val_f1w.item())\n",
    "        #print(f'VAL-Epoch {self.current_epoch} LOSS:{avg_val_loss} ACC:{avg_val_acc} ')\n",
    "    def configure_optimizers(self):\n",
    "        optimizer = torch.optim.Adam(self.parameters(), lr=0.0001)\n",
    "        lr_scheduler = torch.optim.lr_scheduler.CosineAnnealingWarmRestarts(optimizer, \n",
    "                                                                    T_0=10,\n",
    "                                                                    T_mult=1,\n",
    "                                                                    eta_min=1e-7,\n",
    "                                                                    verbose=True,\n",
    "                                                                    )\n",
    "\n",
    "        # lr_scheduler = {'scheduler': MultiStepLR(optimizer, milestones=[10,20,30,40], gamma=0.5,),'interval': 'epoch','frequency':1}\n",
    "        return [optimizer], [lr_scheduler]"
   ]
  },
  {
   "cell_type": "markdown",
   "id": "a278e369-a6c6-4f0e-adde-4c61d7dc0286",
   "metadata": {},
   "source": [
    "## Probando MobileNet"
   ]
  },
  {
   "cell_type": "code",
   "execution_count": 39,
   "id": "151905d8-8363-45b6-83bf-90eae0a913a2",
   "metadata": {
    "tags": []
   },
   "outputs": [],
   "source": [
    "# timm.list_models(pretrained=True)\n",
    "# eff_model = timm.create_model('tf_efficientnet_b7',pretrained='True',num_classes=12)\n",
    "mobile_model = timm.create_model('mobilenetv3_large_100',pretrained='True',num_classes=12)\n"
   ]
  },
  {
   "cell_type": "code",
   "execution_count": 40,
   "id": "4fe48bc9-27c4-4443-a81e-87838bf84776",
   "metadata": {},
   "outputs": [],
   "source": [
    "mobile_model_focal_sampler  = LitModel_Focal(model=mobile_model)\n"
   ]
  },
  {
   "cell_type": "code",
   "execution_count": 41,
   "id": "08da91de-025d-4fc7-afb5-5c2fabf4f99e",
   "metadata": {
    "tags": []
   },
   "outputs": [
    {
     "name": "stderr",
     "output_type": "stream",
     "text": [
      "GPU available: True, used: True\n",
      "TPU available: False, using: 0 TPU cores\n",
      "IPU available: False, using: 0 IPUs\n",
      "LOCAL_RANK: 0 - CUDA_VISIBLE_DEVICES: [0]\n",
      "Set SLURM handle signals.\n",
      "\n",
      "  | Name       | Type        | Params\n",
      "-------------------------------------------\n",
      "0 | model      | MobileNetV3 | 4.2 M \n",
      "1 | focal_loss | FocalLoss   | 0     \n",
      "2 | f1_score   | F1          | 0     \n",
      "-------------------------------------------\n",
      "4.2 M     Trainable params\n",
      "0         Non-trainable params\n",
      "4.2 M     Total params\n",
      "16.870    Total estimated model params size (MB)\n"
     ]
    },
    {
     "name": "stdout",
     "output_type": "stream",
     "text": [
      "Epoch     0: adjusting learning rate of group 0 to 1.0000e-04.\n",
      "Epoch 0:  90%|█████████ | 957/1059 [01:42<00:10,  9.37it/s, loss=0.0662, v_num=1666746, train_F1w=1.000]Epoch     1: adjusting learning rate of group 0 to 9.7555e-05.\n",
      "Epoch 0:  90%|█████████ | 958/1059 [01:42<00:10,  9.37it/s, loss=0.066, v_num=1666746, train_F1w=1.000] \n",
      "Validating: 0it [00:00, ?it/s]\u001b[A\n",
      "Epoch 0:  91%|█████████ | 961/1059 [01:42<00:10,  9.39it/s, loss=0.066, v_num=1666746, train_F1w=1.000]\n",
      "Epoch 0:  91%|█████████ | 964/1059 [01:42<00:10,  9.41it/s, loss=0.066, v_num=1666746, train_F1w=1.000]\n",
      "Epoch 0:  91%|█████████▏| 967/1059 [01:42<00:09,  9.43it/s, loss=0.066, v_num=1666746, train_F1w=1.000]\n",
      "Epoch 0:  92%|█████████▏| 970/1059 [01:42<00:09,  9.44it/s, loss=0.066, v_num=1666746, train_F1w=1.000]\n",
      "Epoch 0:  92%|█████████▏| 973/1059 [01:42<00:09,  9.46it/s, loss=0.066, v_num=1666746, train_F1w=1.000]\n",
      "Epoch 0:  92%|█████████▏| 976/1059 [01:42<00:08,  9.48it/s, loss=0.066, v_num=1666746, train_F1w=1.000]\n",
      "Epoch 0:  92%|█████████▏| 979/1059 [01:43<00:08,  9.50it/s, loss=0.066, v_num=1666746, train_F1w=1.000]\n",
      "Epoch 0:  93%|█████████▎| 982/1059 [01:43<00:08,  9.52it/s, loss=0.066, v_num=1666746, train_F1w=1.000]\n",
      "Epoch 0:  93%|█████████▎| 985/1059 [01:43<00:07,  9.53it/s, loss=0.066, v_num=1666746, train_F1w=1.000]\n",
      "Epoch 0:  93%|█████████▎| 988/1059 [01:43<00:07,  9.55it/s, loss=0.066, v_num=1666746, train_F1w=1.000]\n",
      "Epoch 0:  94%|█████████▎| 991/1059 [01:43<00:07,  9.57it/s, loss=0.066, v_num=1666746, train_F1w=1.000]\n",
      "Epoch 0:  94%|█████████▍| 994/1059 [01:43<00:06,  9.58it/s, loss=0.066, v_num=1666746, train_F1w=1.000]\n",
      "Epoch 0:  94%|█████████▍| 997/1059 [01:43<00:06,  9.60it/s, loss=0.066, v_num=1666746, train_F1w=1.000]\n",
      "Epoch 0:  94%|█████████▍| 1000/1059 [01:43<00:06,  9.62it/s, loss=0.066, v_num=1666746, train_F1w=1.000]\n",
      "Epoch 0:  95%|█████████▍| 1003/1059 [01:44<00:05,  9.64it/s, loss=0.066, v_num=1666746, train_F1w=1.000]\n",
      "Epoch 0:  95%|█████████▍| 1006/1059 [01:44<00:05,  9.65it/s, loss=0.066, v_num=1666746, train_F1w=1.000]\n",
      "Epoch 0:  95%|█████████▌| 1009/1059 [01:44<00:05,  9.67it/s, loss=0.066, v_num=1666746, train_F1w=1.000]\n",
      "Epoch 0:  96%|█████████▌| 1012/1059 [01:44<00:04,  9.69it/s, loss=0.066, v_num=1666746, train_F1w=1.000]\n",
      "Epoch 0:  96%|█████████▌| 1015/1059 [01:44<00:04,  9.70it/s, loss=0.066, v_num=1666746, train_F1w=1.000]\n",
      "Epoch 0:  96%|█████████▌| 1018/1059 [01:44<00:04,  9.72it/s, loss=0.066, v_num=1666746, train_F1w=1.000]\n",
      "Epoch 0:  96%|█████████▋| 1021/1059 [01:44<00:03,  9.74it/s, loss=0.066, v_num=1666746, train_F1w=1.000]\n",
      "Epoch 0:  97%|█████████▋| 1024/1059 [01:44<00:03,  9.76it/s, loss=0.066, v_num=1666746, train_F1w=1.000]\n",
      "Epoch 0:  97%|█████████▋| 1027/1059 [01:45<00:03,  9.77it/s, loss=0.066, v_num=1666746, train_F1w=1.000]\n",
      "Epoch 0:  97%|█████████▋| 1030/1059 [01:45<00:02,  9.79it/s, loss=0.066, v_num=1666746, train_F1w=1.000]\n",
      "Epoch 0:  98%|█████████▊| 1033/1059 [01:45<00:02,  9.81it/s, loss=0.066, v_num=1666746, train_F1w=1.000]\n",
      "Epoch 0:  98%|█████████▊| 1036/1059 [01:45<00:02,  9.82it/s, loss=0.066, v_num=1666746, train_F1w=1.000]\n",
      "Epoch 0:  98%|█████████▊| 1039/1059 [01:45<00:02,  9.84it/s, loss=0.066, v_num=1666746, train_F1w=1.000]\n",
      "Epoch 0:  98%|█████████▊| 1042/1059 [01:45<00:01,  9.86it/s, loss=0.066, v_num=1666746, train_F1w=1.000]\n",
      "Epoch 0:  99%|█████████▊| 1045/1059 [01:45<00:01,  9.87it/s, loss=0.066, v_num=1666746, train_F1w=1.000]\n",
      "Epoch 0:  99%|█████████▉| 1048/1059 [01:45<00:01,  9.89it/s, loss=0.066, v_num=1666746, train_F1w=1.000]\n",
      "Epoch 0:  99%|█████████▉| 1051/1059 [01:46<00:00,  9.91it/s, loss=0.066, v_num=1666746, train_F1w=1.000]\n",
      "Epoch 0: 100%|█████████▉| 1054/1059 [01:46<00:00,  9.92it/s, loss=0.066, v_num=1666746, train_F1w=1.000]\n",
      "Epoch 0: 100%|█████████▉| 1057/1059 [01:46<00:00,  9.94it/s, loss=0.066, v_num=1666746, train_F1w=1.000]\n",
      "Epoch 0: 100%|██████████| 1059/1059 [01:46<00:00,  9.95it/s, loss=0.066, v_num=1666746, train_F1w=1.000, val_loss=0.0439, val_f1w=0.948]\n",
      "Epoch 0: 100%|██████████| 1059/1059 [01:46<00:00,  9.95it/s, loss=0.066, v_num=1666746, train_F1w=1.000, val_loss=0.0439, val_f1w=0.948]"
     ]
    },
    {
     "name": "stderr",
     "output_type": "stream",
     "text": [
      "Epoch 0, global step 957: avg_val_f1w reached 0.94802 (best 0.94802), saving model to \"/mnt/gpid08/datasets/remote_sensing/tmp_from_gpid07/honey/results/Mobile-Focal-Sampler-DA-epoch=0-val_loss=0.04-avg_val_f1w=0.95.ckpt\" as top 1\n"
     ]
    },
    {
     "name": "stdout",
     "output_type": "stream",
     "text": [
      "Epoch 1:  90%|█████████ | 957/1059 [01:40<00:10,  9.57it/s, loss=0.0277, v_num=1666746, train_F1w=1.000, val_loss=0.0439, val_f1w=0.948]Epoch     2: adjusting learning rate of group 0 to 9.0460e-05.\n",
      "Epoch 1:  90%|█████████ | 958/1059 [01:40<00:10,  9.57it/s, loss=0.0273, v_num=1666746, train_F1w=0.833, val_loss=0.0439, val_f1w=0.948]\n",
      "Validating: 0it [00:00, ?it/s]\u001b[A\n",
      "Epoch 1:  91%|█████████ | 960/1059 [01:40<00:10,  9.58it/s, loss=0.0273, v_num=1666746, train_F1w=0.833, val_loss=0.0439, val_f1w=0.948]\n",
      "Epoch 1:  91%|█████████ | 963/1059 [01:40<00:09,  9.60it/s, loss=0.0273, v_num=1666746, train_F1w=0.833, val_loss=0.0439, val_f1w=0.948]\n",
      "Epoch 1:  91%|█████████ | 966/1059 [01:40<00:09,  9.62it/s, loss=0.0273, v_num=1666746, train_F1w=0.833, val_loss=0.0439, val_f1w=0.948]\n",
      "Epoch 1:  92%|█████████▏| 969/1059 [01:40<00:09,  9.64it/s, loss=0.0273, v_num=1666746, train_F1w=0.833, val_loss=0.0439, val_f1w=0.948]\n",
      "Epoch 1:  92%|█████████▏| 972/1059 [01:40<00:09,  9.65it/s, loss=0.0273, v_num=1666746, train_F1w=0.833, val_loss=0.0439, val_f1w=0.948]\n",
      "Epoch 1:  92%|█████████▏| 975/1059 [01:40<00:08,  9.67it/s, loss=0.0273, v_num=1666746, train_F1w=0.833, val_loss=0.0439, val_f1w=0.948]\n",
      "Epoch 1:  92%|█████████▏| 978/1059 [01:40<00:08,  9.69it/s, loss=0.0273, v_num=1666746, train_F1w=0.833, val_loss=0.0439, val_f1w=0.948]\n",
      "Epoch 1:  93%|█████████▎| 981/1059 [01:41<00:08,  9.71it/s, loss=0.0273, v_num=1666746, train_F1w=0.833, val_loss=0.0439, val_f1w=0.948]\n",
      "Epoch 1:  93%|█████████▎| 984/1059 [01:41<00:07,  9.72it/s, loss=0.0273, v_num=1666746, train_F1w=0.833, val_loss=0.0439, val_f1w=0.948]\n",
      "Epoch 1:  93%|█████████▎| 987/1059 [01:41<00:07,  9.74it/s, loss=0.0273, v_num=1666746, train_F1w=0.833, val_loss=0.0439, val_f1w=0.948]\n",
      "Epoch 1:  93%|█████████▎| 990/1059 [01:41<00:07,  9.76it/s, loss=0.0273, v_num=1666746, train_F1w=0.833, val_loss=0.0439, val_f1w=0.948]\n",
      "Epoch 1:  94%|█████████▍| 993/1059 [01:41<00:06,  9.78it/s, loss=0.0273, v_num=1666746, train_F1w=0.833, val_loss=0.0439, val_f1w=0.948]\n",
      "Epoch 1:  94%|█████████▍| 996/1059 [01:41<00:06,  9.79it/s, loss=0.0273, v_num=1666746, train_F1w=0.833, val_loss=0.0439, val_f1w=0.948]\n",
      "Epoch 1:  94%|█████████▍| 999/1059 [01:41<00:06,  9.81it/s, loss=0.0273, v_num=1666746, train_F1w=0.833, val_loss=0.0439, val_f1w=0.948]\n",
      "Epoch 1:  95%|█████████▍| 1002/1059 [01:41<00:05,  9.83it/s, loss=0.0273, v_num=1666746, train_F1w=0.833, val_loss=0.0439, val_f1w=0.948]\n",
      "Epoch 1:  95%|█████████▍| 1005/1059 [01:42<00:05,  9.85it/s, loss=0.0273, v_num=1666746, train_F1w=0.833, val_loss=0.0439, val_f1w=0.948]\n",
      "Epoch 1:  95%|█████████▌| 1008/1059 [01:42<00:05,  9.86it/s, loss=0.0273, v_num=1666746, train_F1w=0.833, val_loss=0.0439, val_f1w=0.948]\n",
      "Epoch 1:  95%|█████████▌| 1011/1059 [01:42<00:04,  9.88it/s, loss=0.0273, v_num=1666746, train_F1w=0.833, val_loss=0.0439, val_f1w=0.948]\n",
      "Epoch 1:  96%|█████████▌| 1014/1059 [01:42<00:04,  9.90it/s, loss=0.0273, v_num=1666746, train_F1w=0.833, val_loss=0.0439, val_f1w=0.948]\n",
      "Epoch 1:  96%|█████████▌| 1017/1059 [01:42<00:04,  9.91it/s, loss=0.0273, v_num=1666746, train_F1w=0.833, val_loss=0.0439, val_f1w=0.948]\n",
      "Epoch 1:  96%|█████████▋| 1020/1059 [01:42<00:03,  9.93it/s, loss=0.0273, v_num=1666746, train_F1w=0.833, val_loss=0.0439, val_f1w=0.948]\n",
      "Epoch 1:  97%|█████████▋| 1023/1059 [01:42<00:03,  9.95it/s, loss=0.0273, v_num=1666746, train_F1w=0.833, val_loss=0.0439, val_f1w=0.948]\n",
      "Epoch 1:  97%|█████████▋| 1026/1059 [01:42<00:03,  9.97it/s, loss=0.0273, v_num=1666746, train_F1w=0.833, val_loss=0.0439, val_f1w=0.948]\n",
      "Epoch 1:  97%|█████████▋| 1029/1059 [01:43<00:03,  9.98it/s, loss=0.0273, v_num=1666746, train_F1w=0.833, val_loss=0.0439, val_f1w=0.948]\n",
      "Epoch 1:  97%|█████████▋| 1032/1059 [01:43<00:02, 10.00it/s, loss=0.0273, v_num=1666746, train_F1w=0.833, val_loss=0.0439, val_f1w=0.948]\n",
      "Epoch 1:  98%|█████████▊| 1035/1059 [01:43<00:02, 10.02it/s, loss=0.0273, v_num=1666746, train_F1w=0.833, val_loss=0.0439, val_f1w=0.948]\n",
      "Epoch 1:  98%|█████████▊| 1038/1059 [01:43<00:02, 10.03it/s, loss=0.0273, v_num=1666746, train_F1w=0.833, val_loss=0.0439, val_f1w=0.948]\n",
      "Epoch 1:  98%|█████████▊| 1041/1059 [01:43<00:01, 10.05it/s, loss=0.0273, v_num=1666746, train_F1w=0.833, val_loss=0.0439, val_f1w=0.948]\n",
      "Epoch 1:  99%|█████████▊| 1044/1059 [01:43<00:01, 10.07it/s, loss=0.0273, v_num=1666746, train_F1w=0.833, val_loss=0.0439, val_f1w=0.948]\n",
      "Epoch 1:  99%|█████████▉| 1047/1059 [01:43<00:01, 10.08it/s, loss=0.0273, v_num=1666746, train_F1w=0.833, val_loss=0.0439, val_f1w=0.948]\n",
      "Epoch 1:  99%|█████████▉| 1050/1059 [01:43<00:00, 10.10it/s, loss=0.0273, v_num=1666746, train_F1w=0.833, val_loss=0.0439, val_f1w=0.948]\n",
      "Epoch 1:  99%|█████████▉| 1053/1059 [01:44<00:00, 10.12it/s, loss=0.0273, v_num=1666746, train_F1w=0.833, val_loss=0.0439, val_f1w=0.948]\n",
      "Epoch 1: 100%|█████████▉| 1056/1059 [01:44<00:00, 10.13it/s, loss=0.0273, v_num=1666746, train_F1w=0.833, val_loss=0.0439, val_f1w=0.948]\n",
      "Epoch 1: 100%|██████████| 1059/1059 [01:44<00:00, 10.15it/s, loss=0.0273, v_num=1666746, train_F1w=0.833, val_loss=0.037, val_f1w=0.968] \n",
      "Epoch 1: 100%|██████████| 1059/1059 [01:44<00:00, 10.15it/s, loss=0.0273, v_num=1666746, train_F1w=0.833, val_loss=0.037, val_f1w=0.968]"
     ]
    },
    {
     "name": "stderr",
     "output_type": "stream",
     "text": [
      "Epoch 1, global step 1915: avg_val_f1w reached 0.96782 (best 0.96782), saving model to \"/mnt/gpid08/datasets/remote_sensing/tmp_from_gpid07/honey/results/Mobile-Focal-Sampler-DA-epoch=1-val_loss=0.04-avg_val_f1w=0.97.ckpt\" as top 1\n"
     ]
    },
    {
     "name": "stdout",
     "output_type": "stream",
     "text": [
      "Epoch 2:  90%|█████████ | 957/1059 [01:39<00:10,  9.59it/s, loss=0.0346, v_num=1666746, train_F1w=1.000, val_loss=0.037, val_f1w=0.968] Epoch     3: adjusting learning rate of group 0 to 7.9410e-05.\n",
      "Epoch 2:  90%|█████████ | 958/1059 [01:39<00:10,  9.60it/s, loss=0.0331, v_num=1666746, train_F1w=1.000, val_loss=0.037, val_f1w=0.968]\n",
      "Validating: 0it [00:00, ?it/s]\u001b[A\n",
      "Epoch 2:  91%|█████████ | 960/1059 [01:39<00:10,  9.61it/s, loss=0.0331, v_num=1666746, train_F1w=1.000, val_loss=0.037, val_f1w=0.968]\n",
      "Epoch 2:  91%|█████████ | 963/1059 [01:40<00:09,  9.63it/s, loss=0.0331, v_num=1666746, train_F1w=1.000, val_loss=0.037, val_f1w=0.968]\n",
      "Epoch 2:  91%|█████████ | 966/1059 [01:40<00:09,  9.64it/s, loss=0.0331, v_num=1666746, train_F1w=1.000, val_loss=0.037, val_f1w=0.968]\n",
      "Epoch 2:  92%|█████████▏| 969/1059 [01:40<00:09,  9.66it/s, loss=0.0331, v_num=1666746, train_F1w=1.000, val_loss=0.037, val_f1w=0.968]\n",
      "Epoch 2:  92%|█████████▏| 972/1059 [01:40<00:08,  9.68it/s, loss=0.0331, v_num=1666746, train_F1w=1.000, val_loss=0.037, val_f1w=0.968]\n",
      "Epoch 2:  92%|█████████▏| 975/1059 [01:40<00:08,  9.70it/s, loss=0.0331, v_num=1666746, train_F1w=1.000, val_loss=0.037, val_f1w=0.968]\n",
      "Epoch 2:  92%|█████████▏| 978/1059 [01:40<00:08,  9.71it/s, loss=0.0331, v_num=1666746, train_F1w=1.000, val_loss=0.037, val_f1w=0.968]\n",
      "Epoch 2:  93%|█████████▎| 981/1059 [01:40<00:08,  9.73it/s, loss=0.0331, v_num=1666746, train_F1w=1.000, val_loss=0.037, val_f1w=0.968]\n",
      "Epoch 2:  93%|█████████▎| 984/1059 [01:40<00:07,  9.75it/s, loss=0.0331, v_num=1666746, train_F1w=1.000, val_loss=0.037, val_f1w=0.968]\n",
      "Epoch 2:  93%|█████████▎| 987/1059 [01:41<00:07,  9.77it/s, loss=0.0331, v_num=1666746, train_F1w=1.000, val_loss=0.037, val_f1w=0.968]\n",
      "Epoch 2:  93%|█████████▎| 990/1059 [01:41<00:07,  9.78it/s, loss=0.0331, v_num=1666746, train_F1w=1.000, val_loss=0.037, val_f1w=0.968]\n",
      "Epoch 2:  94%|█████████▍| 993/1059 [01:41<00:06,  9.80it/s, loss=0.0331, v_num=1666746, train_F1w=1.000, val_loss=0.037, val_f1w=0.968]\n",
      "Epoch 2:  94%|█████████▍| 996/1059 [01:41<00:06,  9.82it/s, loss=0.0331, v_num=1666746, train_F1w=1.000, val_loss=0.037, val_f1w=0.968]\n",
      "Epoch 2:  94%|█████████▍| 999/1059 [01:41<00:06,  9.84it/s, loss=0.0331, v_num=1666746, train_F1w=1.000, val_loss=0.037, val_f1w=0.968]\n",
      "Epoch 2:  95%|█████████▍| 1002/1059 [01:41<00:05,  9.85it/s, loss=0.0331, v_num=1666746, train_F1w=1.000, val_loss=0.037, val_f1w=0.968]\n",
      "Epoch 2:  95%|█████████▍| 1005/1059 [01:41<00:05,  9.87it/s, loss=0.0331, v_num=1666746, train_F1w=1.000, val_loss=0.037, val_f1w=0.968]\n",
      "Epoch 2:  95%|█████████▌| 1008/1059 [01:41<00:05,  9.89it/s, loss=0.0331, v_num=1666746, train_F1w=1.000, val_loss=0.037, val_f1w=0.968]\n",
      "Epoch 2:  95%|█████████▌| 1011/1059 [01:42<00:04,  9.90it/s, loss=0.0331, v_num=1666746, train_F1w=1.000, val_loss=0.037, val_f1w=0.968]\n",
      "Epoch 2:  96%|█████████▌| 1014/1059 [01:42<00:04,  9.92it/s, loss=0.0331, v_num=1666746, train_F1w=1.000, val_loss=0.037, val_f1w=0.968]\n",
      "Epoch 2:  96%|█████████▌| 1017/1059 [01:42<00:04,  9.94it/s, loss=0.0331, v_num=1666746, train_F1w=1.000, val_loss=0.037, val_f1w=0.968]\n",
      "Epoch 2:  96%|█████████▋| 1020/1059 [01:42<00:03,  9.95it/s, loss=0.0331, v_num=1666746, train_F1w=1.000, val_loss=0.037, val_f1w=0.968]\n",
      "Epoch 2:  97%|█████████▋| 1023/1059 [01:42<00:03,  9.97it/s, loss=0.0331, v_num=1666746, train_F1w=1.000, val_loss=0.037, val_f1w=0.968]\n",
      "Epoch 2:  97%|█████████▋| 1026/1059 [01:42<00:03,  9.99it/s, loss=0.0331, v_num=1666746, train_F1w=1.000, val_loss=0.037, val_f1w=0.968]\n",
      "Epoch 2:  97%|█████████▋| 1029/1059 [01:42<00:02, 10.00it/s, loss=0.0331, v_num=1666746, train_F1w=1.000, val_loss=0.037, val_f1w=0.968]\n",
      "Epoch 2:  97%|█████████▋| 1032/1059 [01:42<00:02, 10.02it/s, loss=0.0331, v_num=1666746, train_F1w=1.000, val_loss=0.037, val_f1w=0.968]\n",
      "Epoch 2:  98%|█████████▊| 1035/1059 [01:43<00:02, 10.04it/s, loss=0.0331, v_num=1666746, train_F1w=1.000, val_loss=0.037, val_f1w=0.968]\n",
      "Epoch 2:  98%|█████████▊| 1038/1059 [01:43<00:02, 10.05it/s, loss=0.0331, v_num=1666746, train_F1w=1.000, val_loss=0.037, val_f1w=0.968]\n",
      "Epoch 2:  98%|█████████▊| 1041/1059 [01:43<00:01, 10.07it/s, loss=0.0331, v_num=1666746, train_F1w=1.000, val_loss=0.037, val_f1w=0.968]\n",
      "Epoch 2:  99%|█████████▊| 1044/1059 [01:43<00:01, 10.09it/s, loss=0.0331, v_num=1666746, train_F1w=1.000, val_loss=0.037, val_f1w=0.968]\n",
      "Epoch 2:  99%|█████████▉| 1047/1059 [01:43<00:01, 10.10it/s, loss=0.0331, v_num=1666746, train_F1w=1.000, val_loss=0.037, val_f1w=0.968]\n",
      "Epoch 2:  99%|█████████▉| 1050/1059 [01:43<00:00, 10.12it/s, loss=0.0331, v_num=1666746, train_F1w=1.000, val_loss=0.037, val_f1w=0.968]\n",
      "Epoch 2:  99%|█████████▉| 1053/1059 [01:43<00:00, 10.14it/s, loss=0.0331, v_num=1666746, train_F1w=1.000, val_loss=0.037, val_f1w=0.968]\n",
      "Epoch 2: 100%|█████████▉| 1056/1059 [01:43<00:00, 10.15it/s, loss=0.0331, v_num=1666746, train_F1w=1.000, val_loss=0.037, val_f1w=0.968]\n",
      "Epoch 2: 100%|██████████| 1059/1059 [01:44<00:00, 10.17it/s, loss=0.0331, v_num=1666746, train_F1w=1.000, val_loss=0.0214, val_f1w=0.973]\n",
      "Epoch 2: 100%|██████████| 1059/1059 [01:44<00:00, 10.17it/s, loss=0.0331, v_num=1666746, train_F1w=1.000, val_loss=0.0214, val_f1w=0.973]"
     ]
    },
    {
     "name": "stderr",
     "output_type": "stream",
     "text": [
      "Epoch 2, global step 2873: avg_val_f1w reached 0.97277 (best 0.97277), saving model to \"/mnt/gpid08/datasets/remote_sensing/tmp_from_gpid07/honey/results/Mobile-Focal-Sampler-DA-epoch=2-val_loss=0.02-avg_val_f1w=0.97.ckpt\" as top 1\n"
     ]
    },
    {
     "name": "stdout",
     "output_type": "stream",
     "text": [
      "Epoch 3:  90%|█████████ | 957/1059 [01:39<00:10,  9.59it/s, loss=0.0512, v_num=1666746, train_F1w=0.875, val_loss=0.0214, val_f1w=0.973] Epoch     4: adjusting learning rate of group 0 to 6.5485e-05.\n",
      "Epoch 3:  90%|█████████ | 958/1059 [01:39<00:10,  9.59it/s, loss=0.0513, v_num=1666746, train_F1w=1.000, val_loss=0.0214, val_f1w=0.973]\n",
      "Validating: 0it [00:00, ?it/s]\u001b[A\n",
      "Epoch 3:  91%|█████████ | 960/1059 [01:39<00:10,  9.61it/s, loss=0.0513, v_num=1666746, train_F1w=1.000, val_loss=0.0214, val_f1w=0.973]\n",
      "Epoch 3:  91%|█████████ | 963/1059 [01:40<00:09,  9.63it/s, loss=0.0513, v_num=1666746, train_F1w=1.000, val_loss=0.0214, val_f1w=0.973]\n",
      "Epoch 3:  91%|█████████ | 966/1059 [01:40<00:09,  9.65it/s, loss=0.0513, v_num=1666746, train_F1w=1.000, val_loss=0.0214, val_f1w=0.973]\n",
      "Epoch 3:  92%|█████████▏| 969/1059 [01:40<00:09,  9.66it/s, loss=0.0513, v_num=1666746, train_F1w=1.000, val_loss=0.0214, val_f1w=0.973]\n",
      "Epoch 3:  92%|█████████▏| 972/1059 [01:40<00:08,  9.68it/s, loss=0.0513, v_num=1666746, train_F1w=1.000, val_loss=0.0214, val_f1w=0.973]\n",
      "Epoch 3:  92%|█████████▏| 975/1059 [01:40<00:08,  9.70it/s, loss=0.0513, v_num=1666746, train_F1w=1.000, val_loss=0.0214, val_f1w=0.973]\n",
      "Epoch 3:  92%|█████████▏| 978/1059 [01:40<00:08,  9.72it/s, loss=0.0513, v_num=1666746, train_F1w=1.000, val_loss=0.0214, val_f1w=0.973]\n",
      "Epoch 3:  93%|█████████▎| 981/1059 [01:40<00:08,  9.74it/s, loss=0.0513, v_num=1666746, train_F1w=1.000, val_loss=0.0214, val_f1w=0.973]\n",
      "Epoch 3:  93%|█████████▎| 984/1059 [01:40<00:07,  9.76it/s, loss=0.0513, v_num=1666746, train_F1w=1.000, val_loss=0.0214, val_f1w=0.973]\n",
      "Epoch 3:  93%|█████████▎| 987/1059 [01:40<00:07,  9.78it/s, loss=0.0513, v_num=1666746, train_F1w=1.000, val_loss=0.0214, val_f1w=0.973]\n",
      "Epoch 3:  93%|█████████▎| 990/1059 [01:41<00:07,  9.80it/s, loss=0.0513, v_num=1666746, train_F1w=1.000, val_loss=0.0214, val_f1w=0.973]\n",
      "Epoch 3:  94%|█████████▍| 993/1059 [01:41<00:06,  9.81it/s, loss=0.0513, v_num=1666746, train_F1w=1.000, val_loss=0.0214, val_f1w=0.973]\n",
      "Epoch 3:  94%|█████████▍| 996/1059 [01:41<00:06,  9.83it/s, loss=0.0513, v_num=1666746, train_F1w=1.000, val_loss=0.0214, val_f1w=0.973]\n",
      "Epoch 3:  94%|█████████▍| 999/1059 [01:41<00:06,  9.85it/s, loss=0.0513, v_num=1666746, train_F1w=1.000, val_loss=0.0214, val_f1w=0.973]\n",
      "Epoch 3:  95%|█████████▍| 1002/1059 [01:41<00:05,  9.87it/s, loss=0.0513, v_num=1666746, train_F1w=1.000, val_loss=0.0214, val_f1w=0.973]\n",
      "Epoch 3:  95%|█████████▍| 1005/1059 [01:41<00:05,  9.89it/s, loss=0.0513, v_num=1666746, train_F1w=1.000, val_loss=0.0214, val_f1w=0.973]\n",
      "Epoch 3:  95%|█████████▌| 1008/1059 [01:41<00:05,  9.91it/s, loss=0.0513, v_num=1666746, train_F1w=1.000, val_loss=0.0214, val_f1w=0.973]\n",
      "Epoch 3:  95%|█████████▌| 1011/1059 [01:41<00:04,  9.92it/s, loss=0.0513, v_num=1666746, train_F1w=1.000, val_loss=0.0214, val_f1w=0.973]\n",
      "Epoch 3:  96%|█████████▌| 1014/1059 [01:41<00:04,  9.94it/s, loss=0.0513, v_num=1666746, train_F1w=1.000, val_loss=0.0214, val_f1w=0.973]\n",
      "Epoch 3:  96%|█████████▌| 1017/1059 [01:42<00:04,  9.96it/s, loss=0.0513, v_num=1666746, train_F1w=1.000, val_loss=0.0214, val_f1w=0.973]\n",
      "Epoch 3:  96%|█████████▋| 1020/1059 [01:42<00:03,  9.98it/s, loss=0.0513, v_num=1666746, train_F1w=1.000, val_loss=0.0214, val_f1w=0.973]\n",
      "Epoch 3:  97%|█████████▋| 1023/1059 [01:42<00:03, 10.00it/s, loss=0.0513, v_num=1666746, train_F1w=1.000, val_loss=0.0214, val_f1w=0.973]\n",
      "Epoch 3:  97%|█████████▋| 1026/1059 [01:42<00:03, 10.01it/s, loss=0.0513, v_num=1666746, train_F1w=1.000, val_loss=0.0214, val_f1w=0.973]\n",
      "Epoch 3:  97%|█████████▋| 1029/1059 [01:42<00:02, 10.03it/s, loss=0.0513, v_num=1666746, train_F1w=1.000, val_loss=0.0214, val_f1w=0.973]\n",
      "Epoch 3:  97%|█████████▋| 1032/1059 [01:42<00:02, 10.05it/s, loss=0.0513, v_num=1666746, train_F1w=1.000, val_loss=0.0214, val_f1w=0.973]\n",
      "Epoch 3:  98%|█████████▊| 1035/1059 [01:42<00:02, 10.06it/s, loss=0.0513, v_num=1666746, train_F1w=1.000, val_loss=0.0214, val_f1w=0.973]\n",
      "Epoch 3:  98%|█████████▊| 1038/1059 [01:42<00:02, 10.08it/s, loss=0.0513, v_num=1666746, train_F1w=1.000, val_loss=0.0214, val_f1w=0.973]\n",
      "Epoch 3:  98%|█████████▊| 1041/1059 [01:43<00:01, 10.10it/s, loss=0.0513, v_num=1666746, train_F1w=1.000, val_loss=0.0214, val_f1w=0.973]\n",
      "Epoch 3:  99%|█████████▊| 1044/1059 [01:43<00:01, 10.11it/s, loss=0.0513, v_num=1666746, train_F1w=1.000, val_loss=0.0214, val_f1w=0.973]\n",
      "Epoch 3:  99%|█████████▉| 1047/1059 [01:43<00:01, 10.13it/s, loss=0.0513, v_num=1666746, train_F1w=1.000, val_loss=0.0214, val_f1w=0.973]\n",
      "Epoch 3:  99%|█████████▉| 1050/1059 [01:43<00:00, 10.15it/s, loss=0.0513, v_num=1666746, train_F1w=1.000, val_loss=0.0214, val_f1w=0.973]\n",
      "Epoch 3:  99%|█████████▉| 1053/1059 [01:43<00:00, 10.16it/s, loss=0.0513, v_num=1666746, train_F1w=1.000, val_loss=0.0214, val_f1w=0.973]\n",
      "Epoch 3: 100%|█████████▉| 1056/1059 [01:43<00:00, 10.18it/s, loss=0.0513, v_num=1666746, train_F1w=1.000, val_loss=0.0214, val_f1w=0.973]\n",
      "Epoch 3: 100%|██████████| 1059/1059 [01:43<00:00, 10.19it/s, loss=0.0513, v_num=1666746, train_F1w=1.000, val_loss=0.0209, val_f1w=0.984]\n",
      "Epoch 3: 100%|██████████| 1059/1059 [01:43<00:00, 10.19it/s, loss=0.0513, v_num=1666746, train_F1w=1.000, val_loss=0.0209, val_f1w=0.984]"
     ]
    },
    {
     "name": "stderr",
     "output_type": "stream",
     "text": [
      "Epoch 3, global step 3831: avg_val_f1w reached 0.98432 (best 0.98432), saving model to \"/mnt/gpid08/datasets/remote_sensing/tmp_from_gpid07/honey/results/Mobile-Focal-Sampler-DA-epoch=3-val_loss=0.02-avg_val_f1w=0.98.ckpt\" as top 1\n"
     ]
    },
    {
     "name": "stdout",
     "output_type": "stream",
     "text": [
      "Epoch 4:  90%|█████████ | 957/1059 [01:39<00:10,  9.59it/s, loss=0.0214, v_num=1666746, train_F1w=1.000, val_loss=0.0209, val_f1w=0.984] Epoch     5: adjusting learning rate of group 0 to 5.0050e-05.\n",
      "Epoch 4:  90%|█████████ | 958/1059 [01:39<00:10,  9.60it/s, loss=0.0246, v_num=1666746, train_F1w=1.000, val_loss=0.0209, val_f1w=0.984]\n",
      "Validating: 0it [00:00, ?it/s]\u001b[A\n",
      "Epoch 4:  91%|█████████ | 960/1059 [01:39<00:10,  9.61it/s, loss=0.0246, v_num=1666746, train_F1w=1.000, val_loss=0.0209, val_f1w=0.984]\n",
      "Epoch 4:  91%|█████████ | 963/1059 [01:40<00:09,  9.63it/s, loss=0.0246, v_num=1666746, train_F1w=1.000, val_loss=0.0209, val_f1w=0.984]\n",
      "Epoch 4:  91%|█████████ | 966/1059 [01:40<00:09,  9.65it/s, loss=0.0246, v_num=1666746, train_F1w=1.000, val_loss=0.0209, val_f1w=0.984]\n",
      "Epoch 4:  92%|█████████▏| 969/1059 [01:40<00:09,  9.66it/s, loss=0.0246, v_num=1666746, train_F1w=1.000, val_loss=0.0209, val_f1w=0.984]\n",
      "Epoch 4:  92%|█████████▏| 972/1059 [01:40<00:08,  9.68it/s, loss=0.0246, v_num=1666746, train_F1w=1.000, val_loss=0.0209, val_f1w=0.984]\n",
      "Epoch 4:  92%|█████████▏| 975/1059 [01:40<00:08,  9.70it/s, loss=0.0246, v_num=1666746, train_F1w=1.000, val_loss=0.0209, val_f1w=0.984]\n",
      "Epoch 4:  92%|█████████▏| 978/1059 [01:40<00:08,  9.72it/s, loss=0.0246, v_num=1666746, train_F1w=1.000, val_loss=0.0209, val_f1w=0.984]\n",
      "Epoch 4:  93%|█████████▎| 981/1059 [01:40<00:08,  9.73it/s, loss=0.0246, v_num=1666746, train_F1w=1.000, val_loss=0.0209, val_f1w=0.984]\n",
      "Epoch 4:  93%|█████████▎| 984/1059 [01:40<00:07,  9.75it/s, loss=0.0246, v_num=1666746, train_F1w=1.000, val_loss=0.0209, val_f1w=0.984]\n",
      "Epoch 4:  93%|█████████▎| 987/1059 [01:41<00:07,  9.77it/s, loss=0.0246, v_num=1666746, train_F1w=1.000, val_loss=0.0209, val_f1w=0.984]\n",
      "Epoch 4:  93%|█████████▎| 990/1059 [01:41<00:07,  9.79it/s, loss=0.0246, v_num=1666746, train_F1w=1.000, val_loss=0.0209, val_f1w=0.984]\n",
      "Epoch 4:  94%|█████████▍| 993/1059 [01:41<00:06,  9.80it/s, loss=0.0246, v_num=1666746, train_F1w=1.000, val_loss=0.0209, val_f1w=0.984]\n",
      "Epoch 4:  94%|█████████▍| 996/1059 [01:41<00:06,  9.82it/s, loss=0.0246, v_num=1666746, train_F1w=1.000, val_loss=0.0209, val_f1w=0.984]\n",
      "Epoch 4:  94%|█████████▍| 999/1059 [01:41<00:06,  9.84it/s, loss=0.0246, v_num=1666746, train_F1w=1.000, val_loss=0.0209, val_f1w=0.984]\n",
      "Epoch 4:  95%|█████████▍| 1002/1059 [01:41<00:05,  9.86it/s, loss=0.0246, v_num=1666746, train_F1w=1.000, val_loss=0.0209, val_f1w=0.984]\n",
      "Epoch 4:  95%|█████████▍| 1005/1059 [01:41<00:05,  9.87it/s, loss=0.0246, v_num=1666746, train_F1w=1.000, val_loss=0.0209, val_f1w=0.984]\n",
      "Epoch 4:  95%|█████████▌| 1008/1059 [01:41<00:05,  9.89it/s, loss=0.0246, v_num=1666746, train_F1w=1.000, val_loss=0.0209, val_f1w=0.984]\n",
      "Epoch 4:  95%|█████████▌| 1011/1059 [01:42<00:04,  9.91it/s, loss=0.0246, v_num=1666746, train_F1w=1.000, val_loss=0.0209, val_f1w=0.984]\n",
      "Epoch 4:  96%|█████████▌| 1014/1059 [01:42<00:04,  9.92it/s, loss=0.0246, v_num=1666746, train_F1w=1.000, val_loss=0.0209, val_f1w=0.984]\n",
      "Epoch 4:  96%|█████████▌| 1017/1059 [01:42<00:04,  9.94it/s, loss=0.0246, v_num=1666746, train_F1w=1.000, val_loss=0.0209, val_f1w=0.984]\n",
      "Epoch 4:  96%|█████████▋| 1020/1059 [01:42<00:03,  9.96it/s, loss=0.0246, v_num=1666746, train_F1w=1.000, val_loss=0.0209, val_f1w=0.984]\n",
      "Epoch 4:  97%|█████████▋| 1023/1059 [01:42<00:03,  9.98it/s, loss=0.0246, v_num=1666746, train_F1w=1.000, val_loss=0.0209, val_f1w=0.984]\n",
      "Epoch 4:  97%|█████████▋| 1026/1059 [01:42<00:03,  9.99it/s, loss=0.0246, v_num=1666746, train_F1w=1.000, val_loss=0.0209, val_f1w=0.984]\n",
      "Epoch 4:  97%|█████████▋| 1029/1059 [01:42<00:02, 10.01it/s, loss=0.0246, v_num=1666746, train_F1w=1.000, val_loss=0.0209, val_f1w=0.984]\n",
      "Epoch 4:  97%|█████████▋| 1032/1059 [01:42<00:02, 10.03it/s, loss=0.0246, v_num=1666746, train_F1w=1.000, val_loss=0.0209, val_f1w=0.984]\n",
      "Epoch 4:  98%|█████████▊| 1035/1059 [01:42<00:02, 10.05it/s, loss=0.0246, v_num=1666746, train_F1w=1.000, val_loss=0.0209, val_f1w=0.984]\n",
      "Epoch 4:  98%|█████████▊| 1038/1059 [01:43<00:02, 10.07it/s, loss=0.0246, v_num=1666746, train_F1w=1.000, val_loss=0.0209, val_f1w=0.984]\n",
      "Epoch 4:  98%|█████████▊| 1041/1059 [01:43<00:01, 10.09it/s, loss=0.0246, v_num=1666746, train_F1w=1.000, val_loss=0.0209, val_f1w=0.984]\n",
      "Epoch 4:  99%|█████████▊| 1044/1059 [01:43<00:01, 10.10it/s, loss=0.0246, v_num=1666746, train_F1w=1.000, val_loss=0.0209, val_f1w=0.984]\n",
      "Epoch 4:  99%|█████████▉| 1047/1059 [01:43<00:01, 10.12it/s, loss=0.0246, v_num=1666746, train_F1w=1.000, val_loss=0.0209, val_f1w=0.984]\n",
      "Epoch 4:  99%|█████████▉| 1050/1059 [01:43<00:00, 10.14it/s, loss=0.0246, v_num=1666746, train_F1w=1.000, val_loss=0.0209, val_f1w=0.984]\n",
      "Epoch 4:  99%|█████████▉| 1053/1059 [01:43<00:00, 10.16it/s, loss=0.0246, v_num=1666746, train_F1w=1.000, val_loss=0.0209, val_f1w=0.984]\n",
      "Epoch 4: 100%|█████████▉| 1056/1059 [01:43<00:00, 10.17it/s, loss=0.0246, v_num=1666746, train_F1w=1.000, val_loss=0.0209, val_f1w=0.984]\n",
      "Epoch 4: 100%|██████████| 1059/1059 [01:43<00:00, 10.19it/s, loss=0.0246, v_num=1666746, train_F1w=1.000, val_loss=0.0141, val_f1w=0.982]\n",
      "Epoch 4: 100%|██████████| 1059/1059 [01:43<00:00, 10.19it/s, loss=0.0246, v_num=1666746, train_F1w=1.000, val_loss=0.0141, val_f1w=0.982]"
     ]
    },
    {
     "name": "stderr",
     "output_type": "stream",
     "text": [
      "Epoch 4, global step 4789: avg_val_f1w was not in top 1\n"
     ]
    },
    {
     "name": "stdout",
     "output_type": "stream",
     "text": [
      "Epoch 5:  90%|█████████ | 957/1059 [01:39<00:10,  9.59it/s, loss=0.00338, v_num=1666746, train_F1w=1.000, val_loss=0.0141, val_f1w=0.982]Epoch     6: adjusting learning rate of group 0 to 3.4615e-05.\n",
      "Epoch 5:  90%|█████████ | 958/1059 [01:39<00:10,  9.59it/s, loss=0.00341, v_num=1666746, train_F1w=1.000, val_loss=0.0141, val_f1w=0.982]\n",
      "Validating: 0it [00:00, ?it/s]\u001b[A\n",
      "Epoch 5:  91%|█████████ | 960/1059 [01:39<00:10,  9.60it/s, loss=0.00341, v_num=1666746, train_F1w=1.000, val_loss=0.0141, val_f1w=0.982]\n",
      "Epoch 5:  91%|█████████ | 963/1059 [01:40<00:09,  9.62it/s, loss=0.00341, v_num=1666746, train_F1w=1.000, val_loss=0.0141, val_f1w=0.982]\n",
      "Epoch 5:  91%|█████████ | 966/1059 [01:40<00:09,  9.64it/s, loss=0.00341, v_num=1666746, train_F1w=1.000, val_loss=0.0141, val_f1w=0.982]\n",
      "Epoch 5:  92%|█████████▏| 969/1059 [01:40<00:09,  9.66it/s, loss=0.00341, v_num=1666746, train_F1w=1.000, val_loss=0.0141, val_f1w=0.982]\n",
      "Epoch 5:  92%|█████████▏| 972/1059 [01:40<00:08,  9.67it/s, loss=0.00341, v_num=1666746, train_F1w=1.000, val_loss=0.0141, val_f1w=0.982]\n",
      "Epoch 5:  92%|█████████▏| 975/1059 [01:40<00:08,  9.69it/s, loss=0.00341, v_num=1666746, train_F1w=1.000, val_loss=0.0141, val_f1w=0.982]\n",
      "Epoch 5:  92%|█████████▏| 978/1059 [01:40<00:08,  9.71it/s, loss=0.00341, v_num=1666746, train_F1w=1.000, val_loss=0.0141, val_f1w=0.982]\n",
      "Epoch 5:  93%|█████████▎| 981/1059 [01:40<00:08,  9.73it/s, loss=0.00341, v_num=1666746, train_F1w=1.000, val_loss=0.0141, val_f1w=0.982]\n",
      "Epoch 5:  93%|█████████▎| 984/1059 [01:40<00:07,  9.74it/s, loss=0.00341, v_num=1666746, train_F1w=1.000, val_loss=0.0141, val_f1w=0.982]\n",
      "Epoch 5:  93%|█████████▎| 987/1059 [01:41<00:07,  9.76it/s, loss=0.00341, v_num=1666746, train_F1w=1.000, val_loss=0.0141, val_f1w=0.982]\n",
      "Epoch 5:  93%|█████████▎| 990/1059 [01:41<00:07,  9.78it/s, loss=0.00341, v_num=1666746, train_F1w=1.000, val_loss=0.0141, val_f1w=0.982]\n",
      "Epoch 5:  94%|█████████▍| 993/1059 [01:41<00:06,  9.79it/s, loss=0.00341, v_num=1666746, train_F1w=1.000, val_loss=0.0141, val_f1w=0.982]\n",
      "Epoch 5:  94%|█████████▍| 996/1059 [01:41<00:06,  9.81it/s, loss=0.00341, v_num=1666746, train_F1w=1.000, val_loss=0.0141, val_f1w=0.982]\n",
      "Epoch 5:  94%|█████████▍| 999/1059 [01:41<00:06,  9.83it/s, loss=0.00341, v_num=1666746, train_F1w=1.000, val_loss=0.0141, val_f1w=0.982]\n",
      "Epoch 5:  95%|█████████▍| 1002/1059 [01:41<00:05,  9.85it/s, loss=0.00341, v_num=1666746, train_F1w=1.000, val_loss=0.0141, val_f1w=0.982]\n",
      "Epoch 5:  95%|█████████▍| 1005/1059 [01:41<00:05,  9.86it/s, loss=0.00341, v_num=1666746, train_F1w=1.000, val_loss=0.0141, val_f1w=0.982]\n",
      "Epoch 5:  95%|█████████▌| 1008/1059 [01:42<00:05,  9.88it/s, loss=0.00341, v_num=1666746, train_F1w=1.000, val_loss=0.0141, val_f1w=0.982]\n",
      "Epoch 5:  95%|█████████▌| 1011/1059 [01:42<00:04,  9.90it/s, loss=0.00341, v_num=1666746, train_F1w=1.000, val_loss=0.0141, val_f1w=0.982]\n",
      "Epoch 5:  96%|█████████▌| 1014/1059 [01:42<00:04,  9.91it/s, loss=0.00341, v_num=1666746, train_F1w=1.000, val_loss=0.0141, val_f1w=0.982]\n",
      "Epoch 5:  96%|█████████▌| 1017/1059 [01:42<00:04,  9.93it/s, loss=0.00341, v_num=1666746, train_F1w=1.000, val_loss=0.0141, val_f1w=0.982]\n",
      "Epoch 5:  96%|█████████▋| 1020/1059 [01:42<00:03,  9.95it/s, loss=0.00341, v_num=1666746, train_F1w=1.000, val_loss=0.0141, val_f1w=0.982]\n",
      "Epoch 5:  97%|█████████▋| 1023/1059 [01:42<00:03,  9.96it/s, loss=0.00341, v_num=1666746, train_F1w=1.000, val_loss=0.0141, val_f1w=0.982]\n",
      "Epoch 5:  97%|█████████▋| 1026/1059 [01:42<00:03,  9.98it/s, loss=0.00341, v_num=1666746, train_F1w=1.000, val_loss=0.0141, val_f1w=0.982]\n",
      "Epoch 5:  97%|█████████▋| 1029/1059 [01:42<00:03, 10.00it/s, loss=0.00341, v_num=1666746, train_F1w=1.000, val_loss=0.0141, val_f1w=0.982]\n",
      "Epoch 5:  97%|█████████▋| 1032/1059 [01:43<00:02, 10.02it/s, loss=0.00341, v_num=1666746, train_F1w=1.000, val_loss=0.0141, val_f1w=0.982]\n",
      "Epoch 5:  98%|█████████▊| 1035/1059 [01:43<00:02, 10.03it/s, loss=0.00341, v_num=1666746, train_F1w=1.000, val_loss=0.0141, val_f1w=0.982]\n",
      "Epoch 5:  98%|█████████▊| 1038/1059 [01:43<00:02, 10.05it/s, loss=0.00341, v_num=1666746, train_F1w=1.000, val_loss=0.0141, val_f1w=0.982]\n",
      "Epoch 5:  98%|█████████▊| 1041/1059 [01:43<00:01, 10.07it/s, loss=0.00341, v_num=1666746, train_F1w=1.000, val_loss=0.0141, val_f1w=0.982]\n",
      "Epoch 5:  99%|█████████▊| 1044/1059 [01:43<00:01, 10.08it/s, loss=0.00341, v_num=1666746, train_F1w=1.000, val_loss=0.0141, val_f1w=0.982]\n",
      "Epoch 5:  99%|█████████▉| 1047/1059 [01:43<00:01, 10.10it/s, loss=0.00341, v_num=1666746, train_F1w=1.000, val_loss=0.0141, val_f1w=0.982]\n",
      "Epoch 5:  99%|█████████▉| 1050/1059 [01:43<00:00, 10.11it/s, loss=0.00341, v_num=1666746, train_F1w=1.000, val_loss=0.0141, val_f1w=0.982]\n",
      "Epoch 5:  99%|█████████▉| 1053/1059 [01:43<00:00, 10.13it/s, loss=0.00341, v_num=1666746, train_F1w=1.000, val_loss=0.0141, val_f1w=0.982]\n",
      "Epoch 5: 100%|█████████▉| 1056/1059 [01:44<00:00, 10.15it/s, loss=0.00341, v_num=1666746, train_F1w=1.000, val_loss=0.0141, val_f1w=0.982]\n",
      "Epoch 5: 100%|██████████| 1059/1059 [01:44<00:00, 10.16it/s, loss=0.00341, v_num=1666746, train_F1w=1.000, val_loss=0.0141, val_f1w=0.982]\n",
      "Epoch 5: 100%|██████████| 1059/1059 [01:44<00:00, 10.16it/s, loss=0.00341, v_num=1666746, train_F1w=1.000, val_loss=0.0134, val_f1w=0.979]\n",
      "Epoch 5: 100%|██████████| 1059/1059 [01:44<00:00, 10.16it/s, loss=0.00341, v_num=1666746, train_F1w=1.000, val_loss=0.0134, val_f1w=0.979]"
     ]
    },
    {
     "name": "stderr",
     "output_type": "stream",
     "text": [
      "Epoch 5, global step 5747: avg_val_f1w was not in top 1\n"
     ]
    },
    {
     "name": "stdout",
     "output_type": "stream",
     "text": [
      "Epoch 6:  90%|█████████ | 957/1059 [01:39<00:10,  9.59it/s, loss=0.00454, v_num=1666746, train_F1w=1.000, val_loss=0.0134, val_f1w=0.979] Epoch     7: adjusting learning rate of group 0 to 2.0690e-05.\n",
      "Epoch 6:  90%|█████████ | 958/1059 [01:39<00:10,  9.60it/s, loss=0.00447, v_num=1666746, train_F1w=1.000, val_loss=0.0134, val_f1w=0.979]\n",
      "Validating: 0it [00:00, ?it/s]\u001b[A\n",
      "Epoch 6:  91%|█████████ | 960/1059 [01:39<00:10,  9.61it/s, loss=0.00447, v_num=1666746, train_F1w=1.000, val_loss=0.0134, val_f1w=0.979]\n",
      "Epoch 6:  91%|█████████ | 963/1059 [01:40<00:09,  9.63it/s, loss=0.00447, v_num=1666746, train_F1w=1.000, val_loss=0.0134, val_f1w=0.979]\n",
      "Epoch 6:  91%|█████████ | 966/1059 [01:40<00:09,  9.64it/s, loss=0.00447, v_num=1666746, train_F1w=1.000, val_loss=0.0134, val_f1w=0.979]\n",
      "Epoch 6:  92%|█████████▏| 969/1059 [01:40<00:09,  9.66it/s, loss=0.00447, v_num=1666746, train_F1w=1.000, val_loss=0.0134, val_f1w=0.979]\n",
      "Epoch 6:  92%|█████████▏| 972/1059 [01:40<00:08,  9.68it/s, loss=0.00447, v_num=1666746, train_F1w=1.000, val_loss=0.0134, val_f1w=0.979]\n",
      "Epoch 6:  92%|█████████▏| 975/1059 [01:40<00:08,  9.70it/s, loss=0.00447, v_num=1666746, train_F1w=1.000, val_loss=0.0134, val_f1w=0.979]\n",
      "Epoch 6:  92%|█████████▏| 978/1059 [01:40<00:08,  9.71it/s, loss=0.00447, v_num=1666746, train_F1w=1.000, val_loss=0.0134, val_f1w=0.979]\n",
      "Epoch 6:  93%|█████████▎| 981/1059 [01:40<00:08,  9.73it/s, loss=0.00447, v_num=1666746, train_F1w=1.000, val_loss=0.0134, val_f1w=0.979]\n",
      "Epoch 6:  93%|█████████▎| 984/1059 [01:40<00:07,  9.75it/s, loss=0.00447, v_num=1666746, train_F1w=1.000, val_loss=0.0134, val_f1w=0.979]\n",
      "Epoch 6:  93%|█████████▎| 987/1059 [01:41<00:07,  9.77it/s, loss=0.00447, v_num=1666746, train_F1w=1.000, val_loss=0.0134, val_f1w=0.979]\n",
      "Epoch 6:  93%|█████████▎| 990/1059 [01:41<00:07,  9.78it/s, loss=0.00447, v_num=1666746, train_F1w=1.000, val_loss=0.0134, val_f1w=0.979]\n",
      "Epoch 6:  94%|█████████▍| 993/1059 [01:41<00:06,  9.80it/s, loss=0.00447, v_num=1666746, train_F1w=1.000, val_loss=0.0134, val_f1w=0.979]\n",
      "Epoch 6:  94%|█████████▍| 996/1059 [01:41<00:06,  9.82it/s, loss=0.00447, v_num=1666746, train_F1w=1.000, val_loss=0.0134, val_f1w=0.979]\n",
      "Epoch 6:  94%|█████████▍| 999/1059 [01:41<00:06,  9.84it/s, loss=0.00447, v_num=1666746, train_F1w=1.000, val_loss=0.0134, val_f1w=0.979]\n",
      "Epoch 6:  95%|█████████▍| 1002/1059 [01:41<00:05,  9.85it/s, loss=0.00447, v_num=1666746, train_F1w=1.000, val_loss=0.0134, val_f1w=0.979]\n",
      "Epoch 6:  95%|█████████▍| 1005/1059 [01:41<00:05,  9.87it/s, loss=0.00447, v_num=1666746, train_F1w=1.000, val_loss=0.0134, val_f1w=0.979]\n",
      "Epoch 6:  95%|█████████▌| 1008/1059 [01:41<00:05,  9.89it/s, loss=0.00447, v_num=1666746, train_F1w=1.000, val_loss=0.0134, val_f1w=0.979]\n",
      "Epoch 6:  95%|█████████▌| 1011/1059 [01:42<00:04,  9.90it/s, loss=0.00447, v_num=1666746, train_F1w=1.000, val_loss=0.0134, val_f1w=0.979]\n",
      "Epoch 6:  96%|█████████▌| 1014/1059 [01:42<00:04,  9.92it/s, loss=0.00447, v_num=1666746, train_F1w=1.000, val_loss=0.0134, val_f1w=0.979]\n",
      "Epoch 6:  96%|█████████▌| 1017/1059 [01:42<00:04,  9.94it/s, loss=0.00447, v_num=1666746, train_F1w=1.000, val_loss=0.0134, val_f1w=0.979]\n",
      "Epoch 6:  96%|█████████▋| 1020/1059 [01:42<00:03,  9.96it/s, loss=0.00447, v_num=1666746, train_F1w=1.000, val_loss=0.0134, val_f1w=0.979]\n",
      "Epoch 6:  97%|█████████▋| 1023/1059 [01:42<00:03,  9.97it/s, loss=0.00447, v_num=1666746, train_F1w=1.000, val_loss=0.0134, val_f1w=0.979]\n",
      "Epoch 6:  97%|█████████▋| 1026/1059 [01:42<00:03,  9.99it/s, loss=0.00447, v_num=1666746, train_F1w=1.000, val_loss=0.0134, val_f1w=0.979]\n",
      "Epoch 6:  97%|█████████▋| 1029/1059 [01:42<00:02, 10.01it/s, loss=0.00447, v_num=1666746, train_F1w=1.000, val_loss=0.0134, val_f1w=0.979]\n",
      "Epoch 6:  97%|█████████▋| 1032/1059 [01:42<00:02, 10.02it/s, loss=0.00447, v_num=1666746, train_F1w=1.000, val_loss=0.0134, val_f1w=0.979]\n",
      "Epoch 6:  98%|█████████▊| 1035/1059 [01:43<00:02, 10.04it/s, loss=0.00447, v_num=1666746, train_F1w=1.000, val_loss=0.0134, val_f1w=0.979]\n",
      "Epoch 6:  98%|█████████▊| 1038/1059 [01:43<00:02, 10.06it/s, loss=0.00447, v_num=1666746, train_F1w=1.000, val_loss=0.0134, val_f1w=0.979]\n",
      "Epoch 6:  98%|█████████▊| 1041/1059 [01:43<00:01, 10.07it/s, loss=0.00447, v_num=1666746, train_F1w=1.000, val_loss=0.0134, val_f1w=0.979]\n",
      "Epoch 6:  99%|█████████▊| 1044/1059 [01:43<00:01, 10.09it/s, loss=0.00447, v_num=1666746, train_F1w=1.000, val_loss=0.0134, val_f1w=0.979]\n",
      "Epoch 6:  99%|█████████▉| 1047/1059 [01:43<00:01, 10.11it/s, loss=0.00447, v_num=1666746, train_F1w=1.000, val_loss=0.0134, val_f1w=0.979]\n",
      "Epoch 6:  99%|█████████▉| 1050/1059 [01:43<00:00, 10.12it/s, loss=0.00447, v_num=1666746, train_F1w=1.000, val_loss=0.0134, val_f1w=0.979]\n",
      "Epoch 6:  99%|█████████▉| 1053/1059 [01:43<00:00, 10.14it/s, loss=0.00447, v_num=1666746, train_F1w=1.000, val_loss=0.0134, val_f1w=0.979]\n",
      "Epoch 6: 100%|█████████▉| 1056/1059 [01:43<00:00, 10.16it/s, loss=0.00447, v_num=1666746, train_F1w=1.000, val_loss=0.0134, val_f1w=0.979]\n",
      "Epoch 6: 100%|██████████| 1059/1059 [01:44<00:00, 10.17it/s, loss=0.00447, v_num=1666746, train_F1w=1.000, val_loss=0.00886, val_f1w=0.993]\n",
      "Epoch 6: 100%|██████████| 1059/1059 [01:44<00:00, 10.17it/s, loss=0.00447, v_num=1666746, train_F1w=1.000, val_loss=0.00886, val_f1w=0.993]"
     ]
    },
    {
     "name": "stderr",
     "output_type": "stream",
     "text": [
      "Epoch 6, global step 6705: avg_val_f1w reached 0.99257 (best 0.99257), saving model to \"/mnt/gpid08/datasets/remote_sensing/tmp_from_gpid07/honey/results/Mobile-Focal-Sampler-DA-epoch=6-val_loss=0.01-avg_val_f1w=0.99.ckpt\" as top 1\n"
     ]
    },
    {
     "name": "stdout",
     "output_type": "stream",
     "text": [
      "Epoch 7:  90%|█████████ | 957/1059 [01:39<00:10,  9.58it/s, loss=0.00811, v_num=1666746, train_F1w=1.000, val_loss=0.00886, val_f1w=0.993] Epoch     8: adjusting learning rate of group 0 to 9.6396e-06.\n",
      "Epoch 7:  90%|█████████ | 958/1059 [01:39<00:10,  9.59it/s, loss=0.00839, v_num=1666746, train_F1w=1.000, val_loss=0.00886, val_f1w=0.993]\n",
      "Validating: 0it [00:00, ?it/s]\u001b[A\n",
      "Epoch 7:  91%|█████████ | 960/1059 [01:40<00:10,  9.60it/s, loss=0.00839, v_num=1666746, train_F1w=1.000, val_loss=0.00886, val_f1w=0.993]\n",
      "Epoch 7:  91%|█████████ | 963/1059 [01:40<00:09,  9.62it/s, loss=0.00839, v_num=1666746, train_F1w=1.000, val_loss=0.00886, val_f1w=0.993]\n",
      "Epoch 7:  91%|█████████ | 966/1059 [01:40<00:09,  9.64it/s, loss=0.00839, v_num=1666746, train_F1w=1.000, val_loss=0.00886, val_f1w=0.993]\n",
      "Epoch 7:  92%|█████████▏| 969/1059 [01:40<00:09,  9.66it/s, loss=0.00839, v_num=1666746, train_F1w=1.000, val_loss=0.00886, val_f1w=0.993]\n",
      "Epoch 7:  92%|█████████▏| 972/1059 [01:40<00:08,  9.67it/s, loss=0.00839, v_num=1666746, train_F1w=1.000, val_loss=0.00886, val_f1w=0.993]\n",
      "Epoch 7:  92%|█████████▏| 975/1059 [01:40<00:08,  9.69it/s, loss=0.00839, v_num=1666746, train_F1w=1.000, val_loss=0.00886, val_f1w=0.993]\n",
      "Epoch 7:  92%|█████████▏| 978/1059 [01:40<00:08,  9.71it/s, loss=0.00839, v_num=1666746, train_F1w=1.000, val_loss=0.00886, val_f1w=0.993]\n",
      "Epoch 7:  93%|█████████▎| 981/1059 [01:40<00:08,  9.73it/s, loss=0.00839, v_num=1666746, train_F1w=1.000, val_loss=0.00886, val_f1w=0.993]\n",
      "Epoch 7:  93%|█████████▎| 984/1059 [01:40<00:07,  9.75it/s, loss=0.00839, v_num=1666746, train_F1w=1.000, val_loss=0.00886, val_f1w=0.993]\n",
      "Epoch 7:  93%|█████████▎| 987/1059 [01:41<00:07,  9.77it/s, loss=0.00839, v_num=1666746, train_F1w=1.000, val_loss=0.00886, val_f1w=0.993]\n",
      "Epoch 7:  93%|█████████▎| 990/1059 [01:41<00:07,  9.79it/s, loss=0.00839, v_num=1666746, train_F1w=1.000, val_loss=0.00886, val_f1w=0.993]\n",
      "Epoch 7:  94%|█████████▍| 993/1059 [01:41<00:06,  9.81it/s, loss=0.00839, v_num=1666746, train_F1w=1.000, val_loss=0.00886, val_f1w=0.993]\n",
      "Epoch 7:  94%|█████████▍| 996/1059 [01:41<00:06,  9.82it/s, loss=0.00839, v_num=1666746, train_F1w=1.000, val_loss=0.00886, val_f1w=0.993]\n",
      "Epoch 7:  94%|█████████▍| 999/1059 [01:41<00:06,  9.84it/s, loss=0.00839, v_num=1666746, train_F1w=1.000, val_loss=0.00886, val_f1w=0.993]\n",
      "Epoch 7:  95%|█████████▍| 1002/1059 [01:41<00:05,  9.86it/s, loss=0.00839, v_num=1666746, train_F1w=1.000, val_loss=0.00886, val_f1w=0.993]\n",
      "Epoch 7:  95%|█████████▍| 1005/1059 [01:41<00:05,  9.88it/s, loss=0.00839, v_num=1666746, train_F1w=1.000, val_loss=0.00886, val_f1w=0.993]\n",
      "Epoch 7:  95%|█████████▌| 1008/1059 [01:41<00:05,  9.90it/s, loss=0.00839, v_num=1666746, train_F1w=1.000, val_loss=0.00886, val_f1w=0.993]\n",
      "Epoch 7:  95%|█████████▌| 1011/1059 [01:41<00:04,  9.92it/s, loss=0.00839, v_num=1666746, train_F1w=1.000, val_loss=0.00886, val_f1w=0.993]\n",
      "Epoch 7:  96%|█████████▌| 1014/1059 [01:42<00:04,  9.93it/s, loss=0.00839, v_num=1666746, train_F1w=1.000, val_loss=0.00886, val_f1w=0.993]\n",
      "Epoch 7:  96%|█████████▌| 1017/1059 [01:42<00:04,  9.95it/s, loss=0.00839, v_num=1666746, train_F1w=1.000, val_loss=0.00886, val_f1w=0.993]\n",
      "Epoch 7:  96%|█████████▋| 1020/1059 [01:42<00:03,  9.97it/s, loss=0.00839, v_num=1666746, train_F1w=1.000, val_loss=0.00886, val_f1w=0.993]\n",
      "Epoch 7:  97%|█████████▋| 1023/1059 [01:42<00:03,  9.99it/s, loss=0.00839, v_num=1666746, train_F1w=1.000, val_loss=0.00886, val_f1w=0.993]\n",
      "Epoch 7:  97%|█████████▋| 1026/1059 [01:42<00:03, 10.01it/s, loss=0.00839, v_num=1666746, train_F1w=1.000, val_loss=0.00886, val_f1w=0.993]\n",
      "Epoch 7:  97%|█████████▋| 1029/1059 [01:42<00:02, 10.02it/s, loss=0.00839, v_num=1666746, train_F1w=1.000, val_loss=0.00886, val_f1w=0.993]\n",
      "Epoch 7:  97%|█████████▋| 1032/1059 [01:42<00:02, 10.04it/s, loss=0.00839, v_num=1666746, train_F1w=1.000, val_loss=0.00886, val_f1w=0.993]\n",
      "Epoch 7:  98%|█████████▊| 1035/1059 [01:42<00:02, 10.06it/s, loss=0.00839, v_num=1666746, train_F1w=1.000, val_loss=0.00886, val_f1w=0.993]\n",
      "Epoch 7:  98%|█████████▊| 1038/1059 [01:42<00:02, 10.08it/s, loss=0.00839, v_num=1666746, train_F1w=1.000, val_loss=0.00886, val_f1w=0.993]\n",
      "Epoch 7:  98%|█████████▊| 1041/1059 [01:43<00:01, 10.10it/s, loss=0.00839, v_num=1666746, train_F1w=1.000, val_loss=0.00886, val_f1w=0.993]\n",
      "Epoch 7:  99%|█████████▊| 1044/1059 [01:43<00:01, 10.11it/s, loss=0.00839, v_num=1666746, train_F1w=1.000, val_loss=0.00886, val_f1w=0.993]\n",
      "Epoch 7:  99%|█████████▉| 1047/1059 [01:43<00:01, 10.13it/s, loss=0.00839, v_num=1666746, train_F1w=1.000, val_loss=0.00886, val_f1w=0.993]\n",
      "Epoch 7:  99%|█████████▉| 1050/1059 [01:43<00:00, 10.15it/s, loss=0.00839, v_num=1666746, train_F1w=1.000, val_loss=0.00886, val_f1w=0.993]\n",
      "Epoch 7:  99%|█████████▉| 1053/1059 [01:43<00:00, 10.17it/s, loss=0.00839, v_num=1666746, train_F1w=1.000, val_loss=0.00886, val_f1w=0.993]\n",
      "Epoch 7: 100%|█████████▉| 1056/1059 [01:43<00:00, 10.19it/s, loss=0.00839, v_num=1666746, train_F1w=1.000, val_loss=0.00886, val_f1w=0.993]\n",
      "Epoch 7: 100%|██████████| 1059/1059 [01:43<00:00, 10.20it/s, loss=0.00839, v_num=1666746, train_F1w=1.000, val_loss=0.00906, val_f1w=0.993]\n",
      "Epoch 7: 100%|██████████| 1059/1059 [01:43<00:00, 10.20it/s, loss=0.00839, v_num=1666746, train_F1w=1.000, val_loss=0.00906, val_f1w=0.993]"
     ]
    },
    {
     "name": "stderr",
     "output_type": "stream",
     "text": [
      "Epoch 7, global step 7663: avg_val_f1w was not in top 1\n"
     ]
    },
    {
     "name": "stdout",
     "output_type": "stream",
     "text": [
      "Epoch 8:  90%|█████████ | 957/1059 [01:39<00:10,  9.60it/s, loss=0.00611, v_num=1666746, train_F1w=1.000, val_loss=0.00906, val_f1w=0.993] Epoch     9: adjusting learning rate of group 0 to 2.5447e-06.\n",
      "Epoch 8:  90%|█████████ | 958/1059 [01:39<00:10,  9.60it/s, loss=0.00674, v_num=1666746, train_F1w=1.000, val_loss=0.00906, val_f1w=0.993]\n",
      "Validating: 0it [00:00, ?it/s]\u001b[A\n",
      "Epoch 8:  91%|█████████ | 960/1059 [01:39<00:10,  9.62it/s, loss=0.00674, v_num=1666746, train_F1w=1.000, val_loss=0.00906, val_f1w=0.993]\n",
      "Epoch 8:  91%|█████████ | 963/1059 [01:39<00:09,  9.63it/s, loss=0.00674, v_num=1666746, train_F1w=1.000, val_loss=0.00906, val_f1w=0.993]\n",
      "Epoch 8:  91%|█████████ | 966/1059 [01:40<00:09,  9.65it/s, loss=0.00674, v_num=1666746, train_F1w=1.000, val_loss=0.00906, val_f1w=0.993]\n",
      "Epoch 8:  92%|█████████▏| 969/1059 [01:40<00:09,  9.67it/s, loss=0.00674, v_num=1666746, train_F1w=1.000, val_loss=0.00906, val_f1w=0.993]\n",
      "Epoch 8:  92%|█████████▏| 972/1059 [01:40<00:08,  9.69it/s, loss=0.00674, v_num=1666746, train_F1w=1.000, val_loss=0.00906, val_f1w=0.993]\n",
      "Epoch 8:  92%|█████████▏| 975/1059 [01:40<00:08,  9.70it/s, loss=0.00674, v_num=1666746, train_F1w=1.000, val_loss=0.00906, val_f1w=0.993]\n",
      "Epoch 8:  92%|█████████▏| 978/1059 [01:40<00:08,  9.72it/s, loss=0.00674, v_num=1666746, train_F1w=1.000, val_loss=0.00906, val_f1w=0.993]\n",
      "Epoch 8:  93%|█████████▎| 981/1059 [01:40<00:08,  9.74it/s, loss=0.00674, v_num=1666746, train_F1w=1.000, val_loss=0.00906, val_f1w=0.993]\n",
      "Epoch 8:  93%|█████████▎| 984/1059 [01:40<00:07,  9.76it/s, loss=0.00674, v_num=1666746, train_F1w=1.000, val_loss=0.00906, val_f1w=0.993]\n",
      "Epoch 8:  93%|█████████▎| 987/1059 [01:40<00:07,  9.78it/s, loss=0.00674, v_num=1666746, train_F1w=1.000, val_loss=0.00906, val_f1w=0.993]\n",
      "Epoch 8:  93%|█████████▎| 990/1059 [01:41<00:07,  9.79it/s, loss=0.00674, v_num=1666746, train_F1w=1.000, val_loss=0.00906, val_f1w=0.993]\n",
      "Epoch 8:  94%|█████████▍| 993/1059 [01:41<00:06,  9.81it/s, loss=0.00674, v_num=1666746, train_F1w=1.000, val_loss=0.00906, val_f1w=0.993]\n",
      "Epoch 8:  94%|█████████▍| 996/1059 [01:41<00:06,  9.83it/s, loss=0.00674, v_num=1666746, train_F1w=1.000, val_loss=0.00906, val_f1w=0.993]\n",
      "Epoch 8:  94%|█████████▍| 999/1059 [01:41<00:06,  9.84it/s, loss=0.00674, v_num=1666746, train_F1w=1.000, val_loss=0.00906, val_f1w=0.993]\n",
      "Epoch 8:  95%|█████████▍| 1002/1059 [01:41<00:05,  9.86it/s, loss=0.00674, v_num=1666746, train_F1w=1.000, val_loss=0.00906, val_f1w=0.993]\n",
      "Epoch 8:  95%|█████████▍| 1005/1059 [01:41<00:05,  9.88it/s, loss=0.00674, v_num=1666746, train_F1w=1.000, val_loss=0.00906, val_f1w=0.993]\n",
      "Epoch 8:  95%|█████████▌| 1008/1059 [01:41<00:05,  9.90it/s, loss=0.00674, v_num=1666746, train_F1w=1.000, val_loss=0.00906, val_f1w=0.993]\n",
      "Epoch 8:  95%|█████████▌| 1011/1059 [01:41<00:04,  9.91it/s, loss=0.00674, v_num=1666746, train_F1w=1.000, val_loss=0.00906, val_f1w=0.993]\n",
      "Epoch 8:  96%|█████████▌| 1014/1059 [01:42<00:04,  9.93it/s, loss=0.00674, v_num=1666746, train_F1w=1.000, val_loss=0.00906, val_f1w=0.993]\n",
      "Epoch 8:  96%|█████████▌| 1017/1059 [01:42<00:04,  9.95it/s, loss=0.00674, v_num=1666746, train_F1w=1.000, val_loss=0.00906, val_f1w=0.993]\n",
      "Epoch 8:  96%|█████████▋| 1020/1059 [01:42<00:03,  9.97it/s, loss=0.00674, v_num=1666746, train_F1w=1.000, val_loss=0.00906, val_f1w=0.993]\n",
      "Epoch 8:  97%|█████████▋| 1023/1059 [01:42<00:03,  9.98it/s, loss=0.00674, v_num=1666746, train_F1w=1.000, val_loss=0.00906, val_f1w=0.993]\n",
      "Epoch 8:  97%|█████████▋| 1026/1059 [01:42<00:03, 10.00it/s, loss=0.00674, v_num=1666746, train_F1w=1.000, val_loss=0.00906, val_f1w=0.993]\n",
      "Epoch 8:  97%|█████████▋| 1029/1059 [01:42<00:02, 10.02it/s, loss=0.00674, v_num=1666746, train_F1w=1.000, val_loss=0.00906, val_f1w=0.993]\n",
      "Epoch 8:  97%|█████████▋| 1032/1059 [01:42<00:02, 10.03it/s, loss=0.00674, v_num=1666746, train_F1w=1.000, val_loss=0.00906, val_f1w=0.993]\n",
      "Epoch 8:  98%|█████████▊| 1035/1059 [01:42<00:02, 10.05it/s, loss=0.00674, v_num=1666746, train_F1w=1.000, val_loss=0.00906, val_f1w=0.993]\n",
      "Epoch 8:  98%|█████████▊| 1038/1059 [01:43<00:02, 10.07it/s, loss=0.00674, v_num=1666746, train_F1w=1.000, val_loss=0.00906, val_f1w=0.993]\n",
      "Epoch 8:  98%|█████████▊| 1041/1059 [01:43<00:01, 10.08it/s, loss=0.00674, v_num=1666746, train_F1w=1.000, val_loss=0.00906, val_f1w=0.993]\n",
      "Epoch 8:  99%|█████████▊| 1044/1059 [01:43<00:01, 10.10it/s, loss=0.00674, v_num=1666746, train_F1w=1.000, val_loss=0.00906, val_f1w=0.993]\n",
      "Epoch 8:  99%|█████████▉| 1047/1059 [01:43<00:01, 10.12it/s, loss=0.00674, v_num=1666746, train_F1w=1.000, val_loss=0.00906, val_f1w=0.993]\n",
      "Epoch 8:  99%|█████████▉| 1050/1059 [01:43<00:00, 10.13it/s, loss=0.00674, v_num=1666746, train_F1w=1.000, val_loss=0.00906, val_f1w=0.993]\n",
      "Epoch 8:  99%|█████████▉| 1053/1059 [01:43<00:00, 10.15it/s, loss=0.00674, v_num=1666746, train_F1w=1.000, val_loss=0.00906, val_f1w=0.993]\n",
      "Epoch 8: 100%|█████████▉| 1056/1059 [01:43<00:00, 10.17it/s, loss=0.00674, v_num=1666746, train_F1w=1.000, val_loss=0.00906, val_f1w=0.993]\n",
      "Epoch 8: 100%|██████████| 1059/1059 [01:43<00:00, 10.18it/s, loss=0.00674, v_num=1666746, train_F1w=1.000, val_loss=0.00629, val_f1w=0.993]\n",
      "Epoch 8: 100%|██████████| 1059/1059 [01:44<00:00, 10.18it/s, loss=0.00674, v_num=1666746, train_F1w=1.000, val_loss=0.00629, val_f1w=0.993]"
     ]
    },
    {
     "name": "stderr",
     "output_type": "stream",
     "text": [
      "Epoch 8, global step 8621: avg_val_f1w was not in top 1\n"
     ]
    },
    {
     "name": "stdout",
     "output_type": "stream",
     "text": [
      "Epoch 9:  90%|█████████ | 957/1059 [01:39<00:10,  9.62it/s, loss=0.00554, v_num=1666746, train_F1w=1.000, val_loss=0.00629, val_f1w=0.993] Epoch    10: adjusting learning rate of group 0 to 1.0000e-04.\n",
      "Epoch 9:  90%|█████████ | 958/1059 [01:39<00:10,  9.63it/s, loss=0.00362, v_num=1666746, train_F1w=1.000, val_loss=0.00629, val_f1w=0.993]\n",
      "Validating: 0it [00:00, ?it/s]\u001b[A\n",
      "Epoch 9:  91%|█████████ | 960/1059 [01:39<00:10,  9.64it/s, loss=0.00362, v_num=1666746, train_F1w=1.000, val_loss=0.00629, val_f1w=0.993]\n",
      "Epoch 9:  91%|█████████ | 963/1059 [01:39<00:09,  9.66it/s, loss=0.00362, v_num=1666746, train_F1w=1.000, val_loss=0.00629, val_f1w=0.993]\n",
      "Epoch 9:  91%|█████████ | 966/1059 [01:39<00:09,  9.68it/s, loss=0.00362, v_num=1666746, train_F1w=1.000, val_loss=0.00629, val_f1w=0.993]\n",
      "Epoch 9:  92%|█████████▏| 969/1059 [01:39<00:09,  9.69it/s, loss=0.00362, v_num=1666746, train_F1w=1.000, val_loss=0.00629, val_f1w=0.993]\n",
      "Epoch 9:  92%|█████████▏| 972/1059 [01:40<00:08,  9.71it/s, loss=0.00362, v_num=1666746, train_F1w=1.000, val_loss=0.00629, val_f1w=0.993]\n",
      "Epoch 9:  92%|█████████▏| 975/1059 [01:40<00:08,  9.73it/s, loss=0.00362, v_num=1666746, train_F1w=1.000, val_loss=0.00629, val_f1w=0.993]\n",
      "Epoch 9:  92%|█████████▏| 978/1059 [01:40<00:08,  9.75it/s, loss=0.00362, v_num=1666746, train_F1w=1.000, val_loss=0.00629, val_f1w=0.993]\n",
      "Epoch 9:  93%|█████████▎| 981/1059 [01:40<00:07,  9.77it/s, loss=0.00362, v_num=1666746, train_F1w=1.000, val_loss=0.00629, val_f1w=0.993]\n",
      "Epoch 9:  93%|█████████▎| 984/1059 [01:40<00:07,  9.78it/s, loss=0.00362, v_num=1666746, train_F1w=1.000, val_loss=0.00629, val_f1w=0.993]\n",
      "Epoch 9:  93%|█████████▎| 987/1059 [01:40<00:07,  9.80it/s, loss=0.00362, v_num=1666746, train_F1w=1.000, val_loss=0.00629, val_f1w=0.993]\n",
      "Epoch 9:  93%|█████████▎| 990/1059 [01:40<00:07,  9.82it/s, loss=0.00362, v_num=1666746, train_F1w=1.000, val_loss=0.00629, val_f1w=0.993]\n",
      "Epoch 9:  94%|█████████▍| 993/1059 [01:40<00:06,  9.84it/s, loss=0.00362, v_num=1666746, train_F1w=1.000, val_loss=0.00629, val_f1w=0.993]\n",
      "Epoch 9:  94%|█████████▍| 996/1059 [01:41<00:06,  9.85it/s, loss=0.00362, v_num=1666746, train_F1w=1.000, val_loss=0.00629, val_f1w=0.993]\n",
      "Epoch 9:  94%|█████████▍| 999/1059 [01:41<00:06,  9.87it/s, loss=0.00362, v_num=1666746, train_F1w=1.000, val_loss=0.00629, val_f1w=0.993]\n",
      "Epoch 9:  95%|█████████▍| 1002/1059 [01:41<00:05,  9.89it/s, loss=0.00362, v_num=1666746, train_F1w=1.000, val_loss=0.00629, val_f1w=0.993]\n",
      "Epoch 9:  95%|█████████▍| 1005/1059 [01:41<00:05,  9.91it/s, loss=0.00362, v_num=1666746, train_F1w=1.000, val_loss=0.00629, val_f1w=0.993]\n",
      "Epoch 9:  95%|█████████▌| 1008/1059 [01:41<00:05,  9.92it/s, loss=0.00362, v_num=1666746, train_F1w=1.000, val_loss=0.00629, val_f1w=0.993]\n",
      "Epoch 9:  95%|█████████▌| 1011/1059 [01:41<00:04,  9.94it/s, loss=0.00362, v_num=1666746, train_F1w=1.000, val_loss=0.00629, val_f1w=0.993]\n",
      "Epoch 9:  96%|█████████▌| 1014/1059 [01:41<00:04,  9.96it/s, loss=0.00362, v_num=1666746, train_F1w=1.000, val_loss=0.00629, val_f1w=0.993]\n",
      "Epoch 9:  96%|█████████▌| 1017/1059 [01:41<00:04,  9.97it/s, loss=0.00362, v_num=1666746, train_F1w=1.000, val_loss=0.00629, val_f1w=0.993]\n",
      "Epoch 9:  96%|█████████▋| 1020/1059 [01:42<00:03,  9.99it/s, loss=0.00362, v_num=1666746, train_F1w=1.000, val_loss=0.00629, val_f1w=0.993]\n",
      "Epoch 9:  97%|█████████▋| 1023/1059 [01:42<00:03, 10.01it/s, loss=0.00362, v_num=1666746, train_F1w=1.000, val_loss=0.00629, val_f1w=0.993]\n",
      "Epoch 9:  97%|█████████▋| 1026/1059 [01:42<00:03, 10.03it/s, loss=0.00362, v_num=1666746, train_F1w=1.000, val_loss=0.00629, val_f1w=0.993]\n",
      "Epoch 9:  97%|█████████▋| 1029/1059 [01:42<00:02, 10.04it/s, loss=0.00362, v_num=1666746, train_F1w=1.000, val_loss=0.00629, val_f1w=0.993]\n",
      "Epoch 9:  97%|█████████▋| 1032/1059 [01:42<00:02, 10.06it/s, loss=0.00362, v_num=1666746, train_F1w=1.000, val_loss=0.00629, val_f1w=0.993]\n",
      "Epoch 9:  98%|█████████▊| 1035/1059 [01:42<00:02, 10.08it/s, loss=0.00362, v_num=1666746, train_F1w=1.000, val_loss=0.00629, val_f1w=0.993]\n",
      "Epoch 9:  98%|█████████▊| 1038/1059 [01:42<00:02, 10.09it/s, loss=0.00362, v_num=1666746, train_F1w=1.000, val_loss=0.00629, val_f1w=0.993]\n",
      "Epoch 9:  98%|█████████▊| 1041/1059 [01:42<00:01, 10.11it/s, loss=0.00362, v_num=1666746, train_F1w=1.000, val_loss=0.00629, val_f1w=0.993]\n",
      "Epoch 9:  99%|█████████▊| 1044/1059 [01:43<00:01, 10.13it/s, loss=0.00362, v_num=1666746, train_F1w=1.000, val_loss=0.00629, val_f1w=0.993]\n",
      "Epoch 9:  99%|█████████▉| 1047/1059 [01:43<00:01, 10.14it/s, loss=0.00362, v_num=1666746, train_F1w=1.000, val_loss=0.00629, val_f1w=0.993]\n",
      "Epoch 9:  99%|█████████▉| 1050/1059 [01:43<00:00, 10.16it/s, loss=0.00362, v_num=1666746, train_F1w=1.000, val_loss=0.00629, val_f1w=0.993]\n",
      "Epoch 9:  99%|█████████▉| 1053/1059 [01:43<00:00, 10.18it/s, loss=0.00362, v_num=1666746, train_F1w=1.000, val_loss=0.00629, val_f1w=0.993]\n",
      "Epoch 9: 100%|█████████▉| 1056/1059 [01:43<00:00, 10.19it/s, loss=0.00362, v_num=1666746, train_F1w=1.000, val_loss=0.00629, val_f1w=0.993]\n",
      "Epoch 9: 100%|██████████| 1059/1059 [01:43<00:00, 10.21it/s, loss=0.00362, v_num=1666746, train_F1w=1.000, val_loss=0.00766, val_f1w=0.990]\n",
      "Epoch 9: 100%|██████████| 1059/1059 [01:43<00:00, 10.21it/s, loss=0.00362, v_num=1666746, train_F1w=1.000, val_loss=0.00766, val_f1w=0.990]"
     ]
    },
    {
     "name": "stderr",
     "output_type": "stream",
     "text": [
      "Epoch 9, global step 9579: avg_val_f1w was not in top 1\n"
     ]
    },
    {
     "name": "stdout",
     "output_type": "stream",
     "text": [
      "Epoch 10:  90%|█████████ | 957/1059 [01:39<00:10,  9.61it/s, loss=0.00841, v_num=1666746, train_F1w=1.000, val_loss=0.00766, val_f1w=0.990]Epoch    11: adjusting learning rate of group 0 to 9.7555e-05.\n",
      "Epoch 10:  90%|█████████ | 958/1059 [01:39<00:10,  9.62it/s, loss=0.00671, v_num=1666746, train_F1w=1.000, val_loss=0.00766, val_f1w=0.990]\n",
      "Validating: 0it [00:00, ?it/s]\u001b[A\n",
      "Epoch 10:  91%|█████████ | 960/1059 [01:39<00:10,  9.63it/s, loss=0.00671, v_num=1666746, train_F1w=1.000, val_loss=0.00766, val_f1w=0.990]\n",
      "Epoch 10:  91%|█████████ | 963/1059 [01:39<00:09,  9.65it/s, loss=0.00671, v_num=1666746, train_F1w=1.000, val_loss=0.00766, val_f1w=0.990]\n",
      "Epoch 10:  91%|█████████ | 966/1059 [01:39<00:09,  9.67it/s, loss=0.00671, v_num=1666746, train_F1w=1.000, val_loss=0.00766, val_f1w=0.990]\n",
      "Epoch 10:  92%|█████████▏| 969/1059 [01:40<00:09,  9.69it/s, loss=0.00671, v_num=1666746, train_F1w=1.000, val_loss=0.00766, val_f1w=0.990]\n",
      "Epoch 10:  92%|█████████▏| 972/1059 [01:40<00:08,  9.70it/s, loss=0.00671, v_num=1666746, train_F1w=1.000, val_loss=0.00766, val_f1w=0.990]\n",
      "Epoch 10:  92%|█████████▏| 975/1059 [01:40<00:08,  9.72it/s, loss=0.00671, v_num=1666746, train_F1w=1.000, val_loss=0.00766, val_f1w=0.990]\n",
      "Epoch 10:  92%|█████████▏| 978/1059 [01:40<00:08,  9.74it/s, loss=0.00671, v_num=1666746, train_F1w=1.000, val_loss=0.00766, val_f1w=0.990]\n",
      "Epoch 10:  93%|█████████▎| 981/1059 [01:40<00:07,  9.76it/s, loss=0.00671, v_num=1666746, train_F1w=1.000, val_loss=0.00766, val_f1w=0.990]\n",
      "Epoch 10:  93%|█████████▎| 984/1059 [01:40<00:07,  9.78it/s, loss=0.00671, v_num=1666746, train_F1w=1.000, val_loss=0.00766, val_f1w=0.990]\n",
      "Epoch 10:  93%|█████████▎| 987/1059 [01:40<00:07,  9.80it/s, loss=0.00671, v_num=1666746, train_F1w=1.000, val_loss=0.00766, val_f1w=0.990]\n",
      "Epoch 10:  93%|█████████▎| 990/1059 [01:40<00:07,  9.82it/s, loss=0.00671, v_num=1666746, train_F1w=1.000, val_loss=0.00766, val_f1w=0.990]\n",
      "Epoch 10:  94%|█████████▍| 993/1059 [01:40<00:06,  9.84it/s, loss=0.00671, v_num=1666746, train_F1w=1.000, val_loss=0.00766, val_f1w=0.990]\n",
      "Epoch 10:  94%|█████████▍| 996/1059 [01:41<00:06,  9.85it/s, loss=0.00671, v_num=1666746, train_F1w=1.000, val_loss=0.00766, val_f1w=0.990]\n",
      "Epoch 10:  94%|█████████▍| 999/1059 [01:41<00:06,  9.87it/s, loss=0.00671, v_num=1666746, train_F1w=1.000, val_loss=0.00766, val_f1w=0.990]\n",
      "Epoch 10:  95%|█████████▍| 1002/1059 [01:41<00:05,  9.89it/s, loss=0.00671, v_num=1666746, train_F1w=1.000, val_loss=0.00766, val_f1w=0.990]\n",
      "Epoch 10:  95%|█████████▍| 1005/1059 [01:41<00:05,  9.91it/s, loss=0.00671, v_num=1666746, train_F1w=1.000, val_loss=0.00766, val_f1w=0.990]\n",
      "Epoch 10:  95%|█████████▌| 1008/1059 [01:41<00:05,  9.93it/s, loss=0.00671, v_num=1666746, train_F1w=1.000, val_loss=0.00766, val_f1w=0.990]\n",
      "Epoch 10:  95%|█████████▌| 1011/1059 [01:41<00:04,  9.95it/s, loss=0.00671, v_num=1666746, train_F1w=1.000, val_loss=0.00766, val_f1w=0.990]\n",
      "Epoch 10:  96%|█████████▌| 1014/1059 [01:41<00:04,  9.96it/s, loss=0.00671, v_num=1666746, train_F1w=1.000, val_loss=0.00766, val_f1w=0.990]\n",
      "Epoch 10:  96%|█████████▌| 1017/1059 [01:41<00:04,  9.98it/s, loss=0.00671, v_num=1666746, train_F1w=1.000, val_loss=0.00766, val_f1w=0.990]\n",
      "Epoch 10:  96%|█████████▋| 1020/1059 [01:41<00:03, 10.00it/s, loss=0.00671, v_num=1666746, train_F1w=1.000, val_loss=0.00766, val_f1w=0.990]\n",
      "Epoch 10:  97%|█████████▋| 1023/1059 [01:42<00:03, 10.02it/s, loss=0.00671, v_num=1666746, train_F1w=1.000, val_loss=0.00766, val_f1w=0.990]\n",
      "Epoch 10:  97%|█████████▋| 1026/1059 [01:42<00:03, 10.04it/s, loss=0.00671, v_num=1666746, train_F1w=1.000, val_loss=0.00766, val_f1w=0.990]\n",
      "Epoch 10:  97%|█████████▋| 1029/1059 [01:42<00:02, 10.06it/s, loss=0.00671, v_num=1666746, train_F1w=1.000, val_loss=0.00766, val_f1w=0.990]\n",
      "Epoch 10:  97%|█████████▋| 1032/1059 [01:42<00:02, 10.07it/s, loss=0.00671, v_num=1666746, train_F1w=1.000, val_loss=0.00766, val_f1w=0.990]\n",
      "Epoch 10:  98%|█████████▊| 1035/1059 [01:42<00:02, 10.09it/s, loss=0.00671, v_num=1666746, train_F1w=1.000, val_loss=0.00766, val_f1w=0.990]\n",
      "Epoch 10:  98%|█████████▊| 1038/1059 [01:42<00:02, 10.11it/s, loss=0.00671, v_num=1666746, train_F1w=1.000, val_loss=0.00766, val_f1w=0.990]\n",
      "Epoch 10:  98%|█████████▊| 1041/1059 [01:42<00:01, 10.13it/s, loss=0.00671, v_num=1666746, train_F1w=1.000, val_loss=0.00766, val_f1w=0.990]\n",
      "Epoch 10:  99%|█████████▊| 1044/1059 [01:42<00:01, 10.15it/s, loss=0.00671, v_num=1666746, train_F1w=1.000, val_loss=0.00766, val_f1w=0.990]\n",
      "Epoch 10:  99%|█████████▉| 1047/1059 [01:43<00:01, 10.16it/s, loss=0.00671, v_num=1666746, train_F1w=1.000, val_loss=0.00766, val_f1w=0.990]\n",
      "Epoch 10:  99%|█████████▉| 1050/1059 [01:43<00:00, 10.18it/s, loss=0.00671, v_num=1666746, train_F1w=1.000, val_loss=0.00766, val_f1w=0.990]\n",
      "Epoch 10:  99%|█████████▉| 1053/1059 [01:43<00:00, 10.20it/s, loss=0.00671, v_num=1666746, train_F1w=1.000, val_loss=0.00766, val_f1w=0.990]\n",
      "Epoch 10: 100%|█████████▉| 1056/1059 [01:43<00:00, 10.22it/s, loss=0.00671, v_num=1666746, train_F1w=1.000, val_loss=0.00766, val_f1w=0.990]\n",
      "Epoch 10: 100%|██████████| 1059/1059 [01:43<00:00, 10.23it/s, loss=0.00671, v_num=1666746, train_F1w=1.000, val_loss=0.00875, val_f1w=0.991]\n",
      "Epoch 10: 100%|██████████| 1059/1059 [01:43<00:00, 10.23it/s, loss=0.00671, v_num=1666746, train_F1w=1.000, val_loss=0.00875, val_f1w=0.991]"
     ]
    },
    {
     "name": "stderr",
     "output_type": "stream",
     "text": [
      "Epoch 10, global step 10537: avg_val_f1w was not in top 1\n"
     ]
    },
    {
     "name": "stdout",
     "output_type": "stream",
     "text": [
      "Epoch 11:  90%|█████████ | 957/1059 [01:39<00:10,  9.57it/s, loss=0.0152, v_num=1666746, train_F1w=1.000, val_loss=0.00875, val_f1w=0.991]  Epoch    12: adjusting learning rate of group 0 to 9.0460e-05.\n",
      "Epoch 11:  90%|█████████ | 958/1059 [01:40<00:10,  9.58it/s, loss=0.0158, v_num=1666746, train_F1w=1.000, val_loss=0.00875, val_f1w=0.991]\n",
      "Validating: 0it [00:00, ?it/s]\u001b[A\n",
      "Epoch 11:  91%|█████████ | 960/1059 [01:40<00:10,  9.59it/s, loss=0.0158, v_num=1666746, train_F1w=1.000, val_loss=0.00875, val_f1w=0.991]\n",
      "Epoch 11:  91%|█████████ | 963/1059 [01:40<00:09,  9.61it/s, loss=0.0158, v_num=1666746, train_F1w=1.000, val_loss=0.00875, val_f1w=0.991]\n",
      "Epoch 11:  91%|█████████ | 966/1059 [01:40<00:09,  9.62it/s, loss=0.0158, v_num=1666746, train_F1w=1.000, val_loss=0.00875, val_f1w=0.991]\n",
      "Epoch 11:  92%|█████████▏| 969/1059 [01:40<00:09,  9.64it/s, loss=0.0158, v_num=1666746, train_F1w=1.000, val_loss=0.00875, val_f1w=0.991]\n",
      "Epoch 11:  92%|█████████▏| 972/1059 [01:40<00:09,  9.66it/s, loss=0.0158, v_num=1666746, train_F1w=1.000, val_loss=0.00875, val_f1w=0.991]\n",
      "Epoch 11:  92%|█████████▏| 975/1059 [01:40<00:08,  9.68it/s, loss=0.0158, v_num=1666746, train_F1w=1.000, val_loss=0.00875, val_f1w=0.991]\n",
      "Epoch 11:  92%|█████████▏| 978/1059 [01:40<00:08,  9.69it/s, loss=0.0158, v_num=1666746, train_F1w=1.000, val_loss=0.00875, val_f1w=0.991]\n",
      "Epoch 11:  93%|█████████▎| 981/1059 [01:41<00:08,  9.71it/s, loss=0.0158, v_num=1666746, train_F1w=1.000, val_loss=0.00875, val_f1w=0.991]\n",
      "Epoch 11:  93%|█████████▎| 984/1059 [01:41<00:07,  9.73it/s, loss=0.0158, v_num=1666746, train_F1w=1.000, val_loss=0.00875, val_f1w=0.991]\n",
      "Epoch 11:  93%|█████████▎| 987/1059 [01:41<00:07,  9.75it/s, loss=0.0158, v_num=1666746, train_F1w=1.000, val_loss=0.00875, val_f1w=0.991]\n",
      "Epoch 11:  93%|█████████▎| 990/1059 [01:41<00:07,  9.77it/s, loss=0.0158, v_num=1666746, train_F1w=1.000, val_loss=0.00875, val_f1w=0.991]\n",
      "Epoch 11:  94%|█████████▍| 993/1059 [01:41<00:06,  9.78it/s, loss=0.0158, v_num=1666746, train_F1w=1.000, val_loss=0.00875, val_f1w=0.991]\n",
      "Epoch 11:  94%|█████████▍| 996/1059 [01:41<00:06,  9.80it/s, loss=0.0158, v_num=1666746, train_F1w=1.000, val_loss=0.00875, val_f1w=0.991]\n",
      "Epoch 11:  94%|█████████▍| 999/1059 [01:41<00:06,  9.82it/s, loss=0.0158, v_num=1666746, train_F1w=1.000, val_loss=0.00875, val_f1w=0.991]\n",
      "Epoch 11:  95%|█████████▍| 1002/1059 [01:41<00:05,  9.83it/s, loss=0.0158, v_num=1666746, train_F1w=1.000, val_loss=0.00875, val_f1w=0.991]\n",
      "Epoch 11:  95%|█████████▍| 1005/1059 [01:42<00:05,  9.85it/s, loss=0.0158, v_num=1666746, train_F1w=1.000, val_loss=0.00875, val_f1w=0.991]\n",
      "Epoch 11:  95%|█████████▌| 1008/1059 [01:42<00:05,  9.87it/s, loss=0.0158, v_num=1666746, train_F1w=1.000, val_loss=0.00875, val_f1w=0.991]\n",
      "Epoch 11:  95%|█████████▌| 1011/1059 [01:42<00:04,  9.89it/s, loss=0.0158, v_num=1666746, train_F1w=1.000, val_loss=0.00875, val_f1w=0.991]\n",
      "Epoch 11:  96%|█████████▌| 1014/1059 [01:42<00:04,  9.90it/s, loss=0.0158, v_num=1666746, train_F1w=1.000, val_loss=0.00875, val_f1w=0.991]\n",
      "Epoch 11:  96%|█████████▌| 1017/1059 [01:42<00:04,  9.92it/s, loss=0.0158, v_num=1666746, train_F1w=1.000, val_loss=0.00875, val_f1w=0.991]\n",
      "Epoch 11:  96%|█████████▋| 1020/1059 [01:42<00:03,  9.94it/s, loss=0.0158, v_num=1666746, train_F1w=1.000, val_loss=0.00875, val_f1w=0.991]\n",
      "Epoch 11:  97%|█████████▋| 1023/1059 [01:42<00:03,  9.95it/s, loss=0.0158, v_num=1666746, train_F1w=1.000, val_loss=0.00875, val_f1w=0.991]\n",
      "Epoch 11:  97%|█████████▋| 1026/1059 [01:42<00:03,  9.97it/s, loss=0.0158, v_num=1666746, train_F1w=1.000, val_loss=0.00875, val_f1w=0.991]\n",
      "Epoch 11:  97%|█████████▋| 1029/1059 [01:43<00:03,  9.99it/s, loss=0.0158, v_num=1666746, train_F1w=1.000, val_loss=0.00875, val_f1w=0.991]\n",
      "Epoch 11:  97%|█████████▋| 1032/1059 [01:43<00:02, 10.01it/s, loss=0.0158, v_num=1666746, train_F1w=1.000, val_loss=0.00875, val_f1w=0.991]\n",
      "Epoch 11:  98%|█████████▊| 1035/1059 [01:43<00:02, 10.02it/s, loss=0.0158, v_num=1666746, train_F1w=1.000, val_loss=0.00875, val_f1w=0.991]\n",
      "Epoch 11:  98%|█████████▊| 1038/1059 [01:43<00:02, 10.04it/s, loss=0.0158, v_num=1666746, train_F1w=1.000, val_loss=0.00875, val_f1w=0.991]\n",
      "Epoch 11:  98%|█████████▊| 1041/1059 [01:43<00:01, 10.06it/s, loss=0.0158, v_num=1666746, train_F1w=1.000, val_loss=0.00875, val_f1w=0.991]\n",
      "Epoch 11:  99%|█████████▊| 1044/1059 [01:43<00:01, 10.07it/s, loss=0.0158, v_num=1666746, train_F1w=1.000, val_loss=0.00875, val_f1w=0.991]\n",
      "Epoch 11:  99%|█████████▉| 1047/1059 [01:43<00:01, 10.09it/s, loss=0.0158, v_num=1666746, train_F1w=1.000, val_loss=0.00875, val_f1w=0.991]\n",
      "Epoch 11:  99%|█████████▉| 1050/1059 [01:43<00:00, 10.11it/s, loss=0.0158, v_num=1666746, train_F1w=1.000, val_loss=0.00875, val_f1w=0.991]\n",
      "Epoch 11:  99%|█████████▉| 1053/1059 [01:44<00:00, 10.12it/s, loss=0.0158, v_num=1666746, train_F1w=1.000, val_loss=0.00875, val_f1w=0.991]\n",
      "Epoch 11: 100%|█████████▉| 1056/1059 [01:44<00:00, 10.14it/s, loss=0.0158, v_num=1666746, train_F1w=1.000, val_loss=0.00875, val_f1w=0.991]\n",
      "Epoch 11: 100%|██████████| 1059/1059 [01:44<00:00, 10.16it/s, loss=0.0158, v_num=1666746, train_F1w=1.000, val_loss=0.016, val_f1w=0.987]  \n",
      "Epoch 11: 100%|██████████| 1059/1059 [01:44<00:00, 10.15it/s, loss=0.0158, v_num=1666746, train_F1w=1.000, val_loss=0.016, val_f1w=0.987]"
     ]
    },
    {
     "name": "stderr",
     "output_type": "stream",
     "text": [
      "Epoch 11, global step 11495: avg_val_f1w was not in top 1\n"
     ]
    },
    {
     "name": "stdout",
     "output_type": "stream",
     "text": [
      "Epoch 12:  90%|█████████ | 957/1059 [01:39<00:10,  9.59it/s, loss=0.0251, v_num=1666746, train_F1w=1.000, val_loss=0.016, val_f1w=0.987] Epoch    13: adjusting learning rate of group 0 to 7.9410e-05.\n",
      "Epoch 12:  90%|█████████ | 958/1059 [01:39<00:10,  9.59it/s, loss=0.0158, v_num=1666746, train_F1w=1.000, val_loss=0.016, val_f1w=0.987]\n",
      "Validating: 0it [00:00, ?it/s]\u001b[A\n",
      "Epoch 12:  91%|█████████ | 960/1059 [01:39<00:10,  9.61it/s, loss=0.0158, v_num=1666746, train_F1w=1.000, val_loss=0.016, val_f1w=0.987]\n",
      "Epoch 12:  91%|█████████ | 963/1059 [01:40<00:09,  9.62it/s, loss=0.0158, v_num=1666746, train_F1w=1.000, val_loss=0.016, val_f1w=0.987]\n",
      "Epoch 12:  91%|█████████ | 966/1059 [01:40<00:09,  9.64it/s, loss=0.0158, v_num=1666746, train_F1w=1.000, val_loss=0.016, val_f1w=0.987]\n",
      "Epoch 12:  92%|█████████▏| 969/1059 [01:40<00:09,  9.66it/s, loss=0.0158, v_num=1666746, train_F1w=1.000, val_loss=0.016, val_f1w=0.987]\n",
      "Epoch 12:  92%|█████████▏| 972/1059 [01:40<00:08,  9.68it/s, loss=0.0158, v_num=1666746, train_F1w=1.000, val_loss=0.016, val_f1w=0.987]\n",
      "Epoch 12:  92%|█████████▏| 975/1059 [01:40<00:08,  9.69it/s, loss=0.0158, v_num=1666746, train_F1w=1.000, val_loss=0.016, val_f1w=0.987]\n",
      "Epoch 12:  92%|█████████▏| 978/1059 [01:40<00:08,  9.71it/s, loss=0.0158, v_num=1666746, train_F1w=1.000, val_loss=0.016, val_f1w=0.987]\n",
      "Epoch 12:  93%|█████████▎| 981/1059 [01:40<00:08,  9.73it/s, loss=0.0158, v_num=1666746, train_F1w=1.000, val_loss=0.016, val_f1w=0.987]\n",
      "Epoch 12:  93%|█████████▎| 984/1059 [01:40<00:07,  9.75it/s, loss=0.0158, v_num=1666746, train_F1w=1.000, val_loss=0.016, val_f1w=0.987]\n",
      "Epoch 12:  93%|█████████▎| 987/1059 [01:41<00:07,  9.76it/s, loss=0.0158, v_num=1666746, train_F1w=1.000, val_loss=0.016, val_f1w=0.987]\n",
      "Epoch 12:  93%|█████████▎| 990/1059 [01:41<00:07,  9.78it/s, loss=0.0158, v_num=1666746, train_F1w=1.000, val_loss=0.016, val_f1w=0.987]\n",
      "Epoch 12:  94%|█████████▍| 993/1059 [01:41<00:06,  9.80it/s, loss=0.0158, v_num=1666746, train_F1w=1.000, val_loss=0.016, val_f1w=0.987]\n",
      "Epoch 12:  94%|█████████▍| 996/1059 [01:41<00:06,  9.82it/s, loss=0.0158, v_num=1666746, train_F1w=1.000, val_loss=0.016, val_f1w=0.987]\n",
      "Epoch 12:  94%|█████████▍| 999/1059 [01:41<00:06,  9.83it/s, loss=0.0158, v_num=1666746, train_F1w=1.000, val_loss=0.016, val_f1w=0.987]\n",
      "Epoch 12:  95%|█████████▍| 1002/1059 [01:41<00:05,  9.85it/s, loss=0.0158, v_num=1666746, train_F1w=1.000, val_loss=0.016, val_f1w=0.987]\n",
      "Epoch 12:  95%|█████████▍| 1005/1059 [01:41<00:05,  9.87it/s, loss=0.0158, v_num=1666746, train_F1w=1.000, val_loss=0.016, val_f1w=0.987]\n",
      "Epoch 12:  95%|█████████▌| 1008/1059 [01:41<00:05,  9.88it/s, loss=0.0158, v_num=1666746, train_F1w=1.000, val_loss=0.016, val_f1w=0.987]\n",
      "Epoch 12:  95%|█████████▌| 1011/1059 [01:42<00:04,  9.90it/s, loss=0.0158, v_num=1666746, train_F1w=1.000, val_loss=0.016, val_f1w=0.987]\n",
      "Epoch 12:  96%|█████████▌| 1014/1059 [01:42<00:04,  9.92it/s, loss=0.0158, v_num=1666746, train_F1w=1.000, val_loss=0.016, val_f1w=0.987]\n",
      "Epoch 12:  96%|█████████▌| 1017/1059 [01:42<00:04,  9.94it/s, loss=0.0158, v_num=1666746, train_F1w=1.000, val_loss=0.016, val_f1w=0.987]\n",
      "Epoch 12:  96%|█████████▋| 1020/1059 [01:42<00:03,  9.95it/s, loss=0.0158, v_num=1666746, train_F1w=1.000, val_loss=0.016, val_f1w=0.987]\n",
      "Epoch 12:  97%|█████████▋| 1023/1059 [01:42<00:03,  9.97it/s, loss=0.0158, v_num=1666746, train_F1w=1.000, val_loss=0.016, val_f1w=0.987]\n",
      "Epoch 12:  97%|█████████▋| 1026/1059 [01:42<00:03,  9.99it/s, loss=0.0158, v_num=1666746, train_F1w=1.000, val_loss=0.016, val_f1w=0.987]\n",
      "Epoch 12:  97%|█████████▋| 1029/1059 [01:42<00:02, 10.00it/s, loss=0.0158, v_num=1666746, train_F1w=1.000, val_loss=0.016, val_f1w=0.987]\n",
      "Epoch 12:  97%|█████████▋| 1032/1059 [01:42<00:02, 10.02it/s, loss=0.0158, v_num=1666746, train_F1w=1.000, val_loss=0.016, val_f1w=0.987]\n",
      "Epoch 12:  98%|█████████▊| 1035/1059 [01:43<00:02, 10.04it/s, loss=0.0158, v_num=1666746, train_F1w=1.000, val_loss=0.016, val_f1w=0.987]\n",
      "Epoch 12:  98%|█████████▊| 1038/1059 [01:43<00:02, 10.05it/s, loss=0.0158, v_num=1666746, train_F1w=1.000, val_loss=0.016, val_f1w=0.987]\n",
      "Epoch 12:  98%|█████████▊| 1041/1059 [01:43<00:01, 10.07it/s, loss=0.0158, v_num=1666746, train_F1w=1.000, val_loss=0.016, val_f1w=0.987]\n",
      "Epoch 12:  99%|█████████▊| 1044/1059 [01:43<00:01, 10.09it/s, loss=0.0158, v_num=1666746, train_F1w=1.000, val_loss=0.016, val_f1w=0.987]\n",
      "Epoch 12:  99%|█████████▉| 1047/1059 [01:43<00:01, 10.10it/s, loss=0.0158, v_num=1666746, train_F1w=1.000, val_loss=0.016, val_f1w=0.987]\n",
      "Epoch 12:  99%|█████████▉| 1050/1059 [01:43<00:00, 10.12it/s, loss=0.0158, v_num=1666746, train_F1w=1.000, val_loss=0.016, val_f1w=0.987]\n",
      "Epoch 12:  99%|█████████▉| 1053/1059 [01:43<00:00, 10.14it/s, loss=0.0158, v_num=1666746, train_F1w=1.000, val_loss=0.016, val_f1w=0.987]\n",
      "Epoch 12: 100%|█████████▉| 1056/1059 [01:44<00:00, 10.15it/s, loss=0.0158, v_num=1666746, train_F1w=1.000, val_loss=0.016, val_f1w=0.987]\n",
      "Epoch 12: 100%|██████████| 1059/1059 [01:44<00:00, 10.17it/s, loss=0.0158, v_num=1666746, train_F1w=1.000, val_loss=0.00957, val_f1w=0.990]\n",
      "Epoch 12: 100%|██████████| 1059/1059 [01:44<00:00, 10.17it/s, loss=0.0158, v_num=1666746, train_F1w=1.000, val_loss=0.00957, val_f1w=0.990]"
     ]
    },
    {
     "name": "stderr",
     "output_type": "stream",
     "text": [
      "Epoch 12, global step 12453: avg_val_f1w was not in top 1\n"
     ]
    },
    {
     "name": "stdout",
     "output_type": "stream",
     "text": [
      "Epoch 13:  90%|█████████ | 957/1059 [01:39<00:10,  9.61it/s, loss=0.00242, v_num=1666746, train_F1w=1.000, val_loss=0.00957, val_f1w=0.990]Epoch    14: adjusting learning rate of group 0 to 6.5485e-05.\n",
      "Epoch 13:  90%|█████████ | 958/1059 [01:39<00:10,  9.61it/s, loss=0.00247, v_num=1666746, train_F1w=1.000, val_loss=0.00957, val_f1w=0.990]\n",
      "Validating: 0it [00:00, ?it/s]\u001b[A\n",
      "Epoch 13:  91%|█████████ | 960/1059 [01:39<00:10,  9.63it/s, loss=0.00247, v_num=1666746, train_F1w=1.000, val_loss=0.00957, val_f1w=0.990]\n",
      "Epoch 13:  91%|█████████ | 963/1059 [01:39<00:09,  9.65it/s, loss=0.00247, v_num=1666746, train_F1w=1.000, val_loss=0.00957, val_f1w=0.990]\n",
      "Epoch 13:  91%|█████████ | 966/1059 [01:39<00:09,  9.67it/s, loss=0.00247, v_num=1666746, train_F1w=1.000, val_loss=0.00957, val_f1w=0.990]\n",
      "Epoch 13:  92%|█████████▏| 969/1059 [01:40<00:09,  9.68it/s, loss=0.00247, v_num=1666746, train_F1w=1.000, val_loss=0.00957, val_f1w=0.990]\n",
      "Epoch 13:  92%|█████████▏| 972/1059 [01:40<00:08,  9.70it/s, loss=0.00247, v_num=1666746, train_F1w=1.000, val_loss=0.00957, val_f1w=0.990]\n",
      "Epoch 13:  92%|█████████▏| 975/1059 [01:40<00:08,  9.72it/s, loss=0.00247, v_num=1666746, train_F1w=1.000, val_loss=0.00957, val_f1w=0.990]\n",
      "Epoch 13:  92%|█████████▏| 978/1059 [01:40<00:08,  9.74it/s, loss=0.00247, v_num=1666746, train_F1w=1.000, val_loss=0.00957, val_f1w=0.990]\n",
      "Epoch 13:  93%|█████████▎| 981/1059 [01:40<00:07,  9.76it/s, loss=0.00247, v_num=1666746, train_F1w=1.000, val_loss=0.00957, val_f1w=0.990]\n",
      "Epoch 13:  93%|█████████▎| 984/1059 [01:40<00:07,  9.78it/s, loss=0.00247, v_num=1666746, train_F1w=1.000, val_loss=0.00957, val_f1w=0.990]\n",
      "Epoch 13:  93%|█████████▎| 987/1059 [01:40<00:07,  9.80it/s, loss=0.00247, v_num=1666746, train_F1w=1.000, val_loss=0.00957, val_f1w=0.990]\n",
      "Epoch 13:  93%|█████████▎| 990/1059 [01:40<00:07,  9.82it/s, loss=0.00247, v_num=1666746, train_F1w=1.000, val_loss=0.00957, val_f1w=0.990]\n",
      "Epoch 13:  94%|█████████▍| 993/1059 [01:40<00:06,  9.83it/s, loss=0.00247, v_num=1666746, train_F1w=1.000, val_loss=0.00957, val_f1w=0.990]\n",
      "Epoch 13:  94%|█████████▍| 996/1059 [01:41<00:06,  9.85it/s, loss=0.00247, v_num=1666746, train_F1w=1.000, val_loss=0.00957, val_f1w=0.990]\n",
      "Epoch 13:  94%|█████████▍| 999/1059 [01:41<00:06,  9.87it/s, loss=0.00247, v_num=1666746, train_F1w=1.000, val_loss=0.00957, val_f1w=0.990]\n",
      "Epoch 13:  95%|█████████▍| 1002/1059 [01:41<00:05,  9.89it/s, loss=0.00247, v_num=1666746, train_F1w=1.000, val_loss=0.00957, val_f1w=0.990]\n",
      "Epoch 13:  95%|█████████▍| 1005/1059 [01:41<00:05,  9.91it/s, loss=0.00247, v_num=1666746, train_F1w=1.000, val_loss=0.00957, val_f1w=0.990]\n",
      "Epoch 13:  95%|█████████▌| 1008/1059 [01:41<00:05,  9.92it/s, loss=0.00247, v_num=1666746, train_F1w=1.000, val_loss=0.00957, val_f1w=0.990]\n",
      "Epoch 13:  95%|█████████▌| 1011/1059 [01:41<00:04,  9.94it/s, loss=0.00247, v_num=1666746, train_F1w=1.000, val_loss=0.00957, val_f1w=0.990]\n",
      "Epoch 13:  96%|█████████▌| 1014/1059 [01:41<00:04,  9.96it/s, loss=0.00247, v_num=1666746, train_F1w=1.000, val_loss=0.00957, val_f1w=0.990]\n",
      "Epoch 13:  96%|█████████▌| 1017/1059 [01:41<00:04,  9.97it/s, loss=0.00247, v_num=1666746, train_F1w=1.000, val_loss=0.00957, val_f1w=0.990]\n",
      "Epoch 13:  96%|█████████▋| 1020/1059 [01:42<00:03,  9.99it/s, loss=0.00247, v_num=1666746, train_F1w=1.000, val_loss=0.00957, val_f1w=0.990]\n",
      "Epoch 13:  97%|█████████▋| 1023/1059 [01:42<00:03, 10.01it/s, loss=0.00247, v_num=1666746, train_F1w=1.000, val_loss=0.00957, val_f1w=0.990]\n",
      "Epoch 13:  97%|█████████▋| 1026/1059 [01:42<00:03, 10.03it/s, loss=0.00247, v_num=1666746, train_F1w=1.000, val_loss=0.00957, val_f1w=0.990]\n",
      "Epoch 13:  97%|█████████▋| 1029/1059 [01:42<00:02, 10.05it/s, loss=0.00247, v_num=1666746, train_F1w=1.000, val_loss=0.00957, val_f1w=0.990]\n",
      "Epoch 13:  97%|█████████▋| 1032/1059 [01:42<00:02, 10.06it/s, loss=0.00247, v_num=1666746, train_F1w=1.000, val_loss=0.00957, val_f1w=0.990]\n",
      "Epoch 13:  98%|█████████▊| 1035/1059 [01:42<00:02, 10.08it/s, loss=0.00247, v_num=1666746, train_F1w=1.000, val_loss=0.00957, val_f1w=0.990]\n",
      "Epoch 13:  98%|█████████▊| 1038/1059 [01:42<00:02, 10.10it/s, loss=0.00247, v_num=1666746, train_F1w=1.000, val_loss=0.00957, val_f1w=0.990]\n",
      "Epoch 13:  98%|█████████▊| 1041/1059 [01:42<00:01, 10.12it/s, loss=0.00247, v_num=1666746, train_F1w=1.000, val_loss=0.00957, val_f1w=0.990]\n",
      "Epoch 13:  99%|█████████▊| 1044/1059 [01:42<00:01, 10.14it/s, loss=0.00247, v_num=1666746, train_F1w=1.000, val_loss=0.00957, val_f1w=0.990]\n",
      "Epoch 13:  99%|█████████▉| 1047/1059 [01:43<00:01, 10.15it/s, loss=0.00247, v_num=1666746, train_F1w=1.000, val_loss=0.00957, val_f1w=0.990]\n",
      "Epoch 13:  99%|█████████▉| 1050/1059 [01:43<00:00, 10.17it/s, loss=0.00247, v_num=1666746, train_F1w=1.000, val_loss=0.00957, val_f1w=0.990]\n",
      "Epoch 13:  99%|█████████▉| 1053/1059 [01:43<00:00, 10.19it/s, loss=0.00247, v_num=1666746, train_F1w=1.000, val_loss=0.00957, val_f1w=0.990]\n",
      "Epoch 13: 100%|█████████▉| 1056/1059 [01:43<00:00, 10.21it/s, loss=0.00247, v_num=1666746, train_F1w=1.000, val_loss=0.00957, val_f1w=0.990]\n",
      "Epoch 13: 100%|██████████| 1059/1059 [01:43<00:00, 10.22it/s, loss=0.00247, v_num=1666746, train_F1w=1.000, val_loss=0.00762, val_f1w=0.990]\n",
      "Epoch 13: 100%|██████████| 1059/1059 [01:43<00:00, 10.22it/s, loss=0.00247, v_num=1666746, train_F1w=1.000, val_loss=0.00762, val_f1w=0.990]"
     ]
    },
    {
     "name": "stderr",
     "output_type": "stream",
     "text": [
      "Epoch 13, global step 13411: avg_val_f1w was not in top 1\n"
     ]
    },
    {
     "name": "stdout",
     "output_type": "stream",
     "text": [
      "Epoch 13: 100%|██████████| 1059/1059 [01:43<00:00, 10.22it/s, loss=0.00247, v_num=1666746, train_F1w=1.000, val_loss=0.00762, val_f1w=0.990]\n"
     ]
    }
   ],
   "source": [
    "checkpoint_callback = ModelCheckpoint(dirpath='/mnt/gpid08/datasets/remote_sensing/tmp_from_gpid07/honey/results/', \n",
    "                                      filename='Mobile-Focal-Sampler-DA-{epoch}-{val_loss:.2f}-{avg_val_f1w:.2f}',\n",
    "                                      monitor='avg_val_f1w',\n",
    "                                      verbose=True,\n",
    "                                      save_last=None,\n",
    "                                      save_top_k=1,\n",
    "                                      save_weights_only=False,\n",
    "                                      mode='max',\n",
    "                                      auto_insert_metric_name=True,\n",
    "                                      )\n",
    "\n",
    "\n",
    "early_stop_callback = EarlyStopping(monitor='EarlyStop_Log',\\\n",
    "                                    min_delta=0.00,\\\n",
    "                                    patience=5,\\\n",
    "                                    verbose=False,\\\n",
    "                                    mode='min')\n",
    "    \n",
    "\n",
    "## Sanity-check\n",
    "trainer = pl.Trainer(gpus=gpu,\n",
    "                     callbacks=[checkpoint_callback,\n",
    "                                early_stop_callback,\n",
    "                               ],\n",
    "                    #  deterministic=True,\n",
    "                     enable_progress_bar=True,\n",
    "                    #  progress_bar_\n",
    "                    #  limit_train_batches=2,\n",
    "                    #  limit_val_batches=2,\n",
    "                     max_epochs=20)\n",
    "\n",
    "# Then you call the fit method passing the PL-module and PL-Datamodule, to start training.\n",
    "trainer.fit(mobile_model_focal_sampler, dm)\n",
    "\n",
    "\n",
    "\n",
    "    "
   ]
  },
  {
   "cell_type": "code",
   "execution_count": 43,
   "id": "4e4dfc25-d131-4ca6-925a-b88f3ef119af",
   "metadata": {},
   "outputs": [
    {
     "name": "stdout",
     "output_type": "stream",
     "text": [
      "CPU times: user 12.6 s, sys: 160 ms, total: 12.8 s\n",
      "Wall time: 13.6 s\n"
     ]
    }
   ],
   "source": [
    "%%time\n",
    "# model_name = \"Mobile-Focal-Sampler-DA-epoch=8-val_loss=0.00-avg_val_f1w=1.00.ckpt\" # BZ=4\n",
    "# model_name = \"Mobile-Focal-Sampler-DA-epoch=13-val_loss=0.01-avg_val_f1w=0.99.ckpt\" ## BZ 32\n",
    "model_name = \"Mobile-Focal-Sampler-DA-epoch=6-val_loss=0.01-avg_val_f1w=0.99.ckpt\" ## BZ 8\n",
    "\n",
    "baseline_model  = LitModel_Focal(model=eff_model)\n",
    "\n",
    "\n",
    "checkpoint =  torch.load('/mnt/gpid08/datasets/remote_sensing/tmp_from_gpid07/honey/results/'+ model_name)\n",
    "\n",
    "baseline_model.load_state_dict(checkpoint['state_dict'])\n",
    "targets, preds, pred_score = [],[],[]\n",
    "baseline_model.to('cuda')\n",
    "for ii, data in enumerate(dm.test_dataloader()):\n",
    "    with torch.no_grad():\n",
    "        targets.append(data['target'].numpy()) #torch.argmax(data['target'],dim=1).numpy()\n",
    "        # y = y.reshape((-1,1))\n",
    "        # print(y.shape)\n",
    "        ## inference\n",
    "        o = baseline_model.predict(data['image'].to('cuda'))\n",
    "        o1 = torch.argmax(o, axis=1).cpu().numpy()\n",
    "        # print(o.shape)\n",
    "        preds.append(o1)\n",
    "        pred_score.append(torch.softmax(o,axis=1))\n",
    "        # print(y)\n",
    "        # print(o)\n",
    "        # if ii==2:\n",
    "        #   break\n",
    "# print(ii)\n",
    "preds2 = np.vstack([x for x in preds]).reshape(-1,1)\n",
    "targets2 = np.vstack([x for x in targets]).reshape(-1,1)\n",
    "pred_score2 = np.vstack([x.cpu().numpy() for x in pred_score]).reshape(-1,12)\n",
    "\n",
    "target_names = ['Pinus','Erica.m', 'Cistus sp', 'Lavandula', 'Citrus sp', 'Helianthus annuus',\n",
    "          'Eucalyptus sp.', 'Rosmarinus officinalis', 'Brassica', 'Cardus', 'Tilia', 'Taraxacum']\n",
    "\n",
    "print(classification_report(targets2, preds2, target_names=target_names))\n"
   ]
  },
  {
   "cell_type": "code",
   "execution_count": 44,
   "id": "88966c80-a51b-43a6-a1d9-652f6bc4a5dd",
   "metadata": {},
   "outputs": [
    {
     "data": {
      "text/plain": [
       "0.01516164994425864"
      ]
     },
     "execution_count": 44,
     "metadata": {},
     "output_type": "execute_result"
    }
   ],
   "source": [
    "13.6/897"
   ]
  },
  {
   "cell_type": "code",
   "execution_count": 31,
   "id": "2cb1a589-3ac8-46fe-a1a7-5441bb9a0a6e",
   "metadata": {},
   "outputs": [
    {
     "data": {
      "text/plain": [
       "0.790692476594383"
      ]
     },
     "execution_count": 31,
     "metadata": {},
     "output_type": "execute_result"
    }
   ],
   "source": [
    "roc_auc_score(targets2[:,0], pred_score2, multi_class='ovr')\n"
   ]
  },
  {
   "cell_type": "code",
   "execution_count": 18,
   "id": "784a8eea-4efa-467b-934d-c434880d6f55",
   "metadata": {},
   "outputs": [
    {
     "data": {
      "text/plain": [
       "0.9926398813749038"
      ]
     },
     "execution_count": 18,
     "metadata": {},
     "output_type": "execute_result"
    }
   ],
   "source": [
    "roc_auc_score(targets2[:,0], pred_score2, multi_class='ovr', average='weighted')\n"
   ]
  },
  {
   "cell_type": "code",
   "execution_count": 19,
   "id": "edec550e-7d02-4dc8-b388-2a7f4540678f",
   "metadata": {},
   "outputs": [
    {
     "data": {
      "text/plain": [
       "0.9907176580489682"
      ]
     },
     "execution_count": 19,
     "metadata": {},
     "output_type": "execute_result"
    }
   ],
   "source": [
    "roc_auc_score(targets2[:,0], pred_score2, multi_class='ovo', average='weighted')\n"
   ]
  },
  {
   "cell_type": "code",
   "execution_count": 20,
   "id": "60538e34-c268-4281-ab7c-5a19b230be8a",
   "metadata": {},
   "outputs": [],
   "source": [
    "cm = confusion_matrix(targets2, preds2, normalize='true')"
   ]
  },
  {
   "cell_type": "code",
   "execution_count": 21,
   "id": "44ee8fdf-5b22-4e1a-921c-773d2cf2927c",
   "metadata": {},
   "outputs": [
    {
     "data": {
      "text/plain": [
       "Text(0.5, 1.0, 'Normalized (rows) Confusion Matrix')"
      ]
     },
     "execution_count": 21,
     "metadata": {},
     "output_type": "execute_result"
    },
    {
     "data": {
      "image/png": "[encoded data removed]",
      "text/plain": [
       "<Figure size 864x576 with 2 Axes>"
      ]
     },
     "metadata": {
      "needs_background": "light"
     },
     "output_type": "display_data"
    }
   ],
   "source": [
    "plt.figure(figsize=(12,8))\n",
    "sns.heatmap(cm, annot=True, fmt='.1f')\n",
    "plt.title('Normalized (rows) Confusion Matrix')"
   ]
  },
  {
   "cell_type": "code",
   "execution_count": 22,
   "id": "2ed79926-1f1e-458e-950a-9312e2fd370b",
   "metadata": {},
   "outputs": [
    {
     "data": {
      "text/plain": [
       "Text(0.5, 1.0, 'Normalized (pred) Confusion Matrix')"
      ]
     },
     "execution_count": 22,
     "metadata": {},
     "output_type": "execute_result"
    },
    {
     "data": {
      "image/png": "[encoded data removed]",
      "text/plain": [
       "<Figure size 864x576 with 2 Axes>"
      ]
     },
     "metadata": {
      "needs_background": "light"
     },
     "output_type": "display_data"
    }
   ],
   "source": [
    "cm = confusion_matrix(targets2, preds2, normalize='pred')\n",
    "plt.figure(figsize=(12,8))\n",
    "sns.heatmap(cm, annot=True, fmt='.1f')\n",
    "plt.title('Normalized (pred) Confusion Matrix')"
   ]
  },
  {
   "cell_type": "code",
   "execution_count": null,
   "id": "cfa1731d-408e-474d-b0b1-82f00bb2a315",
   "metadata": {},
   "outputs": [],
   "source": []
  }
 ],
 "metadata": {
  "kernelspec": {
   "display_name": "Python 3 (ipykernel)",
   "language": "python",
   "name": "python3"
  },
  "language_info": {
   "codemirror_mode": {
    "name": "ipython",
    "version": 3
   },
   "file_extension": ".py",
   "mimetype": "text/x-python",
   "name": "python",
   "nbconvert_exporter": "python",
   "pygments_lexer": "ipython3",
   "version": "3.8.12"
  }
 },
 "nbformat": 4,
 "nbformat_minor": 5
}
