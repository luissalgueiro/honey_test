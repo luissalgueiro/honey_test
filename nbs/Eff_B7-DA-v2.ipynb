{
 "cells": [
  {
   "cell_type": "code",
   "execution_count": 1,
   "id": "c64e8423-696e-40f8-af48-051a8472a5ef",
   "metadata": {},
   "outputs": [
    {
     "name": "stdout",
     "output_type": "stream",
     "text": [
      "Using 1 GPUS\n"
     ]
    }
   ],
   "source": [
    "import numpy as np\n",
    "import matplotlib.pyplot as plt\n",
    "import pandas as pd\n",
    "import os\n",
    "import cv2\n",
    "\n",
    "from sklearn.model_selection import train_test_split\n",
    "\n",
    "import torch \n",
    "import torch.nn as nn\n",
    "from torch.utils.data import DataLoader, Dataset\n",
    "import pytorch_lightning as pl\n",
    "import albumentations\n",
    "\n",
    "from sklearn.metrics import classification_report\n",
    "from sklearn.metrics import f1_score\n",
    "from torchmetrics import F1\n",
    "from pytorch_toolbelt import losses as L\n",
    "import timm\n",
    "\n",
    "from pytorch_lightning.callbacks import LearningRateMonitor\n",
    "from pytorch_lightning.callbacks.early_stopping import EarlyStopping\n",
    "from torch.optim.lr_scheduler import StepLR, MultiStepLR, CosineAnnealingWarmRestarts, ReduceLROnPlateau\n",
    "from pytorch_lightning.callbacks import ModelCheckpoint \n",
    "import torch.nn.functional as F\n",
    "from torch.utils.data import WeightedRandomSampler\n",
    "\n",
    "from pytorch_toolbelt import losses as L\n",
    "\n",
    "gpu = 1 if torch.cuda.is_available() else 0\n",
    "print(f'Using {gpu} GPUS')\n",
    "\n",
    "\n",
    "import warnings\n",
    "warnings.filterwarnings('ignore')"
   ]
  },
  {
   "cell_type": "code",
   "execution_count": 2,
   "id": "3da888e3-d6c7-4355-b766-14eed6f0e693",
   "metadata": {},
   "outputs": [
    {
     "name": "stdout",
     "output_type": "stream",
     "text": [
      "['Eucalyptus sp.', 'Brassica', 'Taraxacum', 'Rosmarinus officinalis', 'Tilia', 'Erica.m', 'Lavandula', 'Cistus sp', 'Pinus', 'Cardus', 'Citrus sp', 'Helianthus annuus']\n"
     ]
    }
   ],
   "source": [
    "root_path = '/mnt/gpid08/datasets/remote_sensing/tmp_from_gpid07/honey/datasets/'\n",
    "print(os.listdir(root_path))"
   ]
  },
  {
   "cell_type": "code",
   "execution_count": 5,
   "id": "a50fdc5e-9ca7-4f08-bd3d-5618bce52a12",
   "metadata": {},
   "outputs": [],
   "source": [
    "df_train = pd.read_csv('../List_train.csv')\n",
    "df_val = pd.read_csv('../List_val.csv')\n",
    "df_test = pd.read_csv('../List_test.csv')"
   ]
  },
  {
   "cell_type": "code",
   "execution_count": 6,
   "id": "3da9842e-6346-4e9f-950e-4525cc07c463",
   "metadata": {},
   "outputs": [
    {
     "data": {
      "text/html": [
       "<div>\n",
       "<style scoped>\n",
       "    .dataframe tbody tr th:only-of-type {\n",
       "        vertical-align: middle;\n",
       "    }\n",
       "\n",
       "    .dataframe tbody tr th {\n",
       "        vertical-align: top;\n",
       "    }\n",
       "\n",
       "    .dataframe thead tr th {\n",
       "        text-align: left;\n",
       "    }\n",
       "\n",
       "    .dataframe thead tr:last-of-type th {\n",
       "        text-align: right;\n",
       "    }\n",
       "</style>\n",
       "<table border=\"1\" class=\"dataframe\">\n",
       "  <thead>\n",
       "    <tr>\n",
       "      <th></th>\n",
       "      <th>Unnamed: 0</th>\n",
       "      <th>name</th>\n",
       "      <th>weights</th>\n",
       "      <th>weights_norm</th>\n",
       "    </tr>\n",
       "    <tr>\n",
       "      <th></th>\n",
       "      <th>count</th>\n",
       "      <th>count</th>\n",
       "      <th></th>\n",
       "      <th></th>\n",
       "    </tr>\n",
       "    <tr>\n",
       "      <th>labels</th>\n",
       "      <th></th>\n",
       "      <th></th>\n",
       "      <th></th>\n",
       "      <th></th>\n",
       "    </tr>\n",
       "  </thead>\n",
       "  <tbody>\n",
       "    <tr>\n",
       "      <th>Brassica</th>\n",
       "      <td>1198</td>\n",
       "      <td>1198</td>\n",
       "      <td>0.000851</td>\n",
       "      <td>0.029288</td>\n",
       "    </tr>\n",
       "    <tr>\n",
       "      <th>Cardus</th>\n",
       "      <td>161</td>\n",
       "      <td>161</td>\n",
       "      <td>0.006335</td>\n",
       "      <td>0.217930</td>\n",
       "    </tr>\n",
       "    <tr>\n",
       "      <th>Cistus sp</th>\n",
       "      <td>589</td>\n",
       "      <td>589</td>\n",
       "      <td>0.001732</td>\n",
       "      <td>0.059570</td>\n",
       "    </tr>\n",
       "    <tr>\n",
       "      <th>Citrus sp</th>\n",
       "      <td>447</td>\n",
       "      <td>447</td>\n",
       "      <td>0.002282</td>\n",
       "      <td>0.078494</td>\n",
       "    </tr>\n",
       "    <tr>\n",
       "      <th>Erica.m</th>\n",
       "      <td>1576</td>\n",
       "      <td>1576</td>\n",
       "      <td>0.000647</td>\n",
       "      <td>0.022263</td>\n",
       "    </tr>\n",
       "    <tr>\n",
       "      <th>Eucalyptus sp.</th>\n",
       "      <td>807</td>\n",
       "      <td>807</td>\n",
       "      <td>0.001264</td>\n",
       "      <td>0.043478</td>\n",
       "    </tr>\n",
       "    <tr>\n",
       "      <th>Helianthus annuus</th>\n",
       "      <td>780</td>\n",
       "      <td>780</td>\n",
       "      <td>0.001308</td>\n",
       "      <td>0.044983</td>\n",
       "    </tr>\n",
       "    <tr>\n",
       "      <th>Lavandula</th>\n",
       "      <td>636</td>\n",
       "      <td>636</td>\n",
       "      <td>0.001604</td>\n",
       "      <td>0.055168</td>\n",
       "    </tr>\n",
       "    <tr>\n",
       "      <th>Pinus</th>\n",
       "      <td>241</td>\n",
       "      <td>241</td>\n",
       "      <td>0.004232</td>\n",
       "      <td>0.145588</td>\n",
       "    </tr>\n",
       "    <tr>\n",
       "      <th>Rosmarinus officinalis</th>\n",
       "      <td>444</td>\n",
       "      <td>444</td>\n",
       "      <td>0.002297</td>\n",
       "      <td>0.079024</td>\n",
       "    </tr>\n",
       "    <tr>\n",
       "      <th>Taraxacum</th>\n",
       "      <td>215</td>\n",
       "      <td>215</td>\n",
       "      <td>0.004744</td>\n",
       "      <td>0.163194</td>\n",
       "    </tr>\n",
       "    <tr>\n",
       "      <th>Tilia</th>\n",
       "      <td>575</td>\n",
       "      <td>575</td>\n",
       "      <td>0.001774</td>\n",
       "      <td>0.061020</td>\n",
       "    </tr>\n",
       "  </tbody>\n",
       "</table>\n",
       "</div>"
      ],
      "text/plain": [
       "                       Unnamed: 0  name   weights weights_norm\n",
       "                            count count                       \n",
       "labels                                                        \n",
       "Brassica                     1198  1198  0.000851     0.029288\n",
       "Cardus                        161   161  0.006335     0.217930\n",
       "Cistus sp                     589   589  0.001732     0.059570\n",
       "Citrus sp                     447   447  0.002282     0.078494\n",
       "Erica.m                      1576  1576  0.000647     0.022263\n",
       "Eucalyptus sp.                807   807  0.001264     0.043478\n",
       "Helianthus annuus             780   780  0.001308     0.044983\n",
       "Lavandula                     636   636  0.001604     0.055168\n",
       "Pinus                         241   241  0.004232     0.145588\n",
       "Rosmarinus officinalis        444   444  0.002297     0.079024\n",
       "Taraxacum                     215   215  0.004744     0.163194\n",
       "Tilia                         575   575  0.001774     0.061020"
      ]
     },
     "execution_count": 6,
     "metadata": {},
     "output_type": "execute_result"
    }
   ],
   "source": [
    "count_train = df_train.groupby('labels').agg({'count'})\n",
    "count_train['weights'] = 1.02/count_train['name']\n",
    "count_train['weights_norm'] = count_train['weights']/count_train['weights'].sum()\n",
    "# count_train['weights_nor'].sum()\n",
    "count_train"
   ]
  },
  {
   "cell_type": "code",
   "execution_count": 7,
   "id": "44d19ae7-3b10-4ab1-ac38-9c58e6eafeea",
   "metadata": {},
   "outputs": [
    {
     "data": {
      "text/plain": [
       "tensor([0.1456, 0.0223, 0.0596, 0.0552, 0.0785, 0.0450, 0.0435, 0.0790, 0.0293,\n",
       "        0.2179, 0.0610, 0.1632])"
      ]
     },
     "execution_count": 7,
     "metadata": {},
     "output_type": "execute_result"
    }
   ],
   "source": [
    "# self.classes = ['Pinus','Erica.m', 'Cistus sp', 'Lavandula', 'Citrus sp', 'Helianthus annuus',\n",
    "#                 'Eucalyptus sp.', 'Rosmarinus officinalis', 'Brassica', 'Cardus', 'Tilia', 'Taraxacum']\n",
    "class_weights=torch.Tensor([count_train.loc['Pinus','weights_norm'].item(),\n",
    "                      count_train.loc['Erica.m','weights_norm'].item(),\n",
    "                      count_train.loc['Cistus sp','weights_norm'].item(),\n",
    "                      count_train.loc['Lavandula','weights_norm'].item(),\n",
    "                      count_train.loc['Citrus sp','weights_norm'].item(),\n",
    "                      count_train.loc['Helianthus annuus','weights_norm'].item(),\n",
    "                      count_train.loc['Eucalyptus sp.','weights_norm'].item(),\n",
    "                      count_train.loc['Rosmarinus officinalis','weights_norm'].item(),\n",
    "                      count_train.loc['Brassica','weights_norm'].item(),\n",
    "                      count_train.loc['Cardus','weights_norm'].item(),\n",
    "                      count_train.loc['Tilia','weights_norm'].item(),\n",
    "                      count_train.loc['Taraxacum','weights_norm'].item(),\n",
    "                      ])\n",
    "class_weights"
   ]
  },
  {
   "cell_type": "markdown",
   "id": "caaff23d-df70-4df0-95f6-cf9fd90a821f",
   "metadata": {},
   "source": [
    "## Weighted Sampler"
   ]
  },
  {
   "cell_type": "code",
   "execution_count": 8,
   "id": "508e1392-62ad-4d0b-a9ea-76bdc7621dde",
   "metadata": {},
   "outputs": [
    {
     "name": "stdout",
     "output_type": "stream",
     "text": [
      "torch.Size([7669])\n"
     ]
    }
   ],
   "source": [
    "\n",
    "\n",
    "samples_weight = np.array([count_train.loc[t,'weights_norm'].item() for t in df_train['labels']])\n",
    "samples_weight=torch.from_numpy(samples_weight)\n",
    "\n",
    "print(samples_weight.shape)\n",
    "\n",
    "sampler = WeightedRandomSampler(samples_weight, len(samples_weight))\n"
   ]
  },
  {
   "cell_type": "code",
   "execution_count": null,
   "id": "025c1647-964b-40c9-bc0e-442b3e8ed7b2",
   "metadata": {},
   "outputs": [],
   "source": []
  },
  {
   "cell_type": "code",
   "execution_count": 24,
   "id": "1f5c2b79-f6bb-4903-96df-87924460c01d",
   "metadata": {},
   "outputs": [],
   "source": [
    "# From https://juansensio.com/blog/062_multihead_attention\n",
    "class Dataset(torch.utils.data.Dataset):\n",
    "    def __init__(self, mode, df):\n",
    "        self.mode = mode\n",
    "        self.df = df \n",
    "        self.mean_img = (0.485, 0.456, 0.406 )\n",
    "        self.std_img = (0.229, 0.224, 0.225)\n",
    "        self.classes = ['Pinus','Erica.m', 'Cistus sp', 'Lavandula', 'Citrus sp', 'Helianthus annuus',\n",
    "                        'Eucalyptus sp.', 'Rosmarinus officinalis', 'Brassica', 'Cardus', 'Tilia', 'Taraxacum']\n",
    "    def __crop_padding(self,img):\n",
    "        ## convert to gray\n",
    "        img_gray = cv2.cvtColor(img, cv2.COLOR_RGB2GRAY)\n",
    "        ## set threshold for 0\n",
    "        _,thresh = cv2.threshold(img_gray,10,255,cv2.THRESH_BINARY)\n",
    "        ## find contours\n",
    "        contours, hierarchy = cv2.findContours(thresh,cv2.RETR_EXTERNAL,cv2.CHAIN_APPROX_SIMPLE)\n",
    "        cnt = contours[0]\n",
    "        x,y,w,h = cv2.boundingRect(cnt)\n",
    "        crop = img[y:y+h,x:x+w,:]\n",
    "        return crop\n",
    "    def __getitem__(self, index):\n",
    "        name_img = self.df['name'].iloc[index]\n",
    "        label    = self.df['labels'].iloc[index]\n",
    "        ## READ IMAGE\n",
    "        image = plt.imread(name_img)\n",
    "        image = self.__crop_padding(image)\n",
    "        target = torch.tensor(self.classes.index(label))\n",
    "        # print(f'Image shape: {image.shape} \\t Target:{target}')\n",
    "        if self.mode=='train':\n",
    "            train_augm = albumentations.Compose(\n",
    "              [\n",
    "                  albumentations.Resize(height=320,width=320),\n",
    "                  albumentations.Normalize(self.mean_img, self.std_img, max_pixel_value=255.0, always_apply=True),\n",
    "                  albumentations.ShiftScaleRotate(shift_limit=0.0625, scale_limit=0.1, rotate_limit=15),\n",
    "                  albumentations.HorizontalFlip(p=0.5),\n",
    "                  albumentations.VerticalFlip(p=0.5),\n",
    "                  albumentations.RandomBrightnessContrast(p=0.2),\n",
    "                  albumentations.OneOf([albumentations.Blur(p=0.5),\n",
    "                                        albumentations.GaussNoise(p=0.5),\n",
    "                                        albumentations.RandomRotate90(p=0.5),\n",
    "                                        albumentations.HueSaturationValue(hue_shift_limit=20, sat_shift_limit=50, val_shift_limit=50, p=1),\n",
    "                                       ], p=0.5),\n",
    "                  \n",
    "              ]\n",
    "            )\n",
    "            transformed = train_augm(image=image)\n",
    "            image=transformed['image']\n",
    "        else:\n",
    "            valid_augm = albumentations.Compose(\n",
    "              [\n",
    "               albumentations.Resize(height=320,width=320),\n",
    "               albumentations.Normalize(self.mean_img, self.std_img, max_pixel_value=255.0, always_apply=True)\n",
    "              ]\n",
    "            )\n",
    "            transformed = valid_augm(image=image)\n",
    "            image=transformed['image']\n",
    "        image = torch.from_numpy(image.transpose()).float()\n",
    "        target_oh = torch.nn.functional.one_hot(target, num_classes=12).float()\n",
    "        data = {\"image\":image,\n",
    "                \"target_oh\":target_oh,\n",
    "                'target':target,\n",
    "                'class_name':label } \n",
    "        # print(f'Image shape: {image.shape} \\t Target:{target}')\n",
    "        return data\n",
    "    def __len__(self):\n",
    "        return len(self.df)\n",
    "\n",
    "class HoneyDataModule(pl.LightningDataModule):\n",
    "    def __init__(self, batch_size: int = 4, Dataset = Dataset):\n",
    "        super().__init__()\n",
    "        self.batch_size = batch_size\n",
    "        self.Dataset = Dataset\n",
    "        self.train_ds =  self.Dataset(mode='train',df= df_train)\n",
    "        self.val_ds   =  self.Dataset(mode='val', df= df_val)\n",
    "        self.test_ds   =  self.Dataset(mode='test', df= df_test)\n",
    "    def train_dataloader(self):\n",
    "        return DataLoader(self.train_ds,\n",
    "                          batch_size=4,\n",
    "                          # shuffle=True,\n",
    "                          num_workers=0,\n",
    "                          pin_memory=True,\n",
    "                          drop_last=True,\n",
    "                          sampler=sampler\n",
    "                          )\n",
    "    def val_dataloader(self):\n",
    "        return DataLoader(self.val_ds, batch_size=4, shuffle=False, num_workers=0, pin_memory=True, drop_last=True )\n",
    "    def test_dataloader(self):\n",
    "        return DataLoader(self.test_ds, batch_size=1, shuffle=False, num_workers=0, pin_memory=True, drop_last=False )\n",
    "    \n",
    "dm = HoneyDataModule(Dataset=Dataset)"
   ]
  },
  {
   "cell_type": "code",
   "execution_count": 25,
   "id": "80562354-ca34-4778-af7f-fbe3752e4013",
   "metadata": {},
   "outputs": [],
   "source": [
    "# from torchmetrics import MatthewsCorrcoef as MCC\n",
    "# from torchmetrics import AUROC"
   ]
  },
  {
   "cell_type": "code",
   "execution_count": 26,
   "id": "eea7430e-4108-4174-8b18-6c9d03d9e4d9",
   "metadata": {},
   "outputs": [],
   "source": [
    "val_epoch_loss_CE, val_epoch_acc_CE = [], []\n",
    "train_epoch_loss_CE, train_epoch_acc_CE = [], []\n",
    "\n",
    "class LitModel_Focal(pl.LightningModule):\n",
    "    def __init__(self, model):\n",
    "        super().__init__( )\n",
    "        # self.save_hyperparameters()\n",
    "        self.model = model\n",
    "        # self.class_weights=class_weights.to('cuda')\n",
    "        self.focal_loss = L.FocalLoss(alpha=0.25, gamma=2)\n",
    "        # self.class_weights\n",
    "        self.f1_score = F1(num_classes=12,average='weighted')\n",
    "        # self.mcc = MCC(num_classes=12)\n",
    "        # self.auroc = AUROC(num_classes=12,average='weighted')\n",
    "        \n",
    "        \n",
    "    def forward(self, x):\n",
    "        return self.model(x)\n",
    "    def predict(self, x):\n",
    "        with torch.no_grad():\n",
    "            y_hat = self(x)\n",
    "            return y_hat\n",
    "            # return torch.argmax(y_hat, axis=1)\n",
    "    def compute_loss_and_metrics(self, batch):\n",
    "        x, y = batch['image'], batch['target']\n",
    "        # print(f'X: {x.shape} \\t Y: {y.shape}')\n",
    "        y_hat = self(x)\n",
    "        # print(f'Output: {y_hat.shape}')\n",
    "        # loss = F.cross_entropy(y_hat, y, weight=self.class_weights)\n",
    "        loss = self.focal_loss(y_hat, y)\n",
    "        # acc = (torch.argmax(y_hat, axis=1) == y).sum().item() / y.shape[0]\n",
    "        # y1 = y.detach().cpu().numpy()\n",
    "        # # print(y1.shape)\n",
    "        # mcc = self.mcc(y_hat, y)\n",
    "        # auroc = self.auroc(y_hat, y)\n",
    "        y_hat1 = torch.argmax(y_hat, axis=1)\n",
    "        # y_hat1 = y_hat1.detach().cpu().numpy()\n",
    "        # print(y_hat1.shape)\n",
    "        f1w = self.f1_score( y, y_hat1)#, average='weighted')\n",
    "        return loss, f1w#, mcc, auroc\n",
    "    def training_step(self, batch, batch_idx):\n",
    "        loss, f1w = self.compute_loss_and_metrics(batch)\n",
    "        self.log('train_loss', loss)\n",
    "        self.log('train_F1w', f1w, prog_bar=True)\n",
    "        # self.log('train_mcc', mcc, prog_bar=True)\n",
    "        # self.log('train_auroc', auroc, prog_bar=True)\n",
    "        #print(f'Training_step: loss> {loss} acc:{acc}')\n",
    "        return {'loss':loss,'f1w':torch.tensor(f1w)}#, 'mcc':torch.tensor(mcc), 'auroc':torch.tensor(auroc)}\n",
    "    \n",
    "    def training_epoch_end(self, outputs):\n",
    "        avg_train_loss = torch.stack([x['loss'] for x in outputs]).mean()\n",
    "        avg_train_f1w  = torch.stack([x['f1w'] for x in outputs]).mean()\n",
    "        # avg_train_mcc  = torch.stack([x['mcc'] for x in outputs]).mean()\n",
    "        # avg_train_auroc  = torch.stack([x['auroc'] for x in outputs]).mean()\n",
    "\n",
    "        train_epoch_loss_CE.append(avg_train_loss.item())\n",
    "        train_epoch_acc_CE.append(avg_train_f1w.item())\n",
    "        #print(f'Epoch {self.current_epoch} TrainLOSS:{avg_train_loss} TrainACC:{avg_train_acc}  ')\n",
    "    def validation_step(self, batch, batch_idx):\n",
    "        loss, f1w= self.compute_loss_and_metrics(batch)\n",
    "        self.log('val_loss', loss, prog_bar=True)\n",
    "        self.log('val_f1w', f1w, prog_bar=True)\n",
    "        # self.log('val_mcc', mcc, prog_bar=True)\n",
    "        # self.log('val_auroc', auroc, prog_bar=True)\n",
    "        \n",
    "        return {'val_loss': torch.tensor(loss.item()), 'val_f1w': torch.tensor(f1w)}#, 'val_mcc': torch.tensor(mcc), 'val_auroc': torch.tensor(auroc) }\n",
    "    def validation_epoch_end(self, outputs):\n",
    "        avg_val_loss = torch.stack([x['val_loss'] for x in outputs]).mean()\n",
    "        avg_val_f1w  = torch.stack([x['val_f1w'] for x in outputs]).mean()\n",
    "        # avg_val_mcc  = torch.stack([x['val_mcc'] for x in outputs]).mean()\n",
    "        # avg_val_auroc  = torch.stack([x['val_auroc'] for x in outputs]).mean()\n",
    "        \n",
    "        self.log('EarlyStop_Log', avg_val_loss.detach(), on_epoch=True, sync_dist=True)\n",
    "        self.log('avg_val_f1w', avg_val_f1w.detach(), on_epoch=True, sync_dist=True)\n",
    "        # self.log('avg_val_mcc', avg_val_mcc.detach(), on_epoch=True, sync_dist=True)\n",
    "        # self.log('avg_val_auroc', avg_val_auroc.detach(), on_epoch=True, sync_dist=True)\n",
    "        \n",
    "        val_epoch_loss_CE.append(avg_val_loss.item())\n",
    "        val_epoch_acc_CE.append(avg_val_f1w.item())\n",
    "        #print(f'VAL-Epoch {self.current_epoch} LOSS:{avg_val_loss} ACC:{avg_val_acc} ')\n",
    "    def configure_optimizers(self):\n",
    "        optimizer = torch.optim.Adam(self.parameters(), lr=0.0002)\n",
    "        lr_scheduler = torch.optim.lr_scheduler.CosineAnnealingWarmRestarts(optimizer, \n",
    "                                                                    T_0=10,\n",
    "                                                                    T_mult=1,\n",
    "                                                                    eta_min=1e-7,\n",
    "                                                                    verbose=True,\n",
    "                                                                    )\n",
    "\n",
    "        # lr_scheduler = {'scheduler': MultiStepLR(optimizer, milestones=[10,20,30,40], gamma=0.5,),'interval': 'epoch','frequency':1}\n",
    "        return [optimizer], [lr_scheduler]"
   ]
  },
  {
   "cell_type": "markdown",
   "id": "a278e369-a6c6-4f0e-adde-4c61d7dc0286",
   "metadata": {},
   "source": [
    "## Probando EfficientNet"
   ]
  },
  {
   "cell_type": "code",
   "execution_count": 27,
   "id": "04c953bc-1ade-4a94-84c6-b78388955298",
   "metadata": {},
   "outputs": [],
   "source": [
    "# timm.list_models('*effic*')"
   ]
  },
  {
   "cell_type": "code",
   "execution_count": 28,
   "id": "151905d8-8363-45b6-83bf-90eae0a913a2",
   "metadata": {
    "tags": []
   },
   "outputs": [],
   "source": [
    "# timm.list_models(pretrained=True)\n",
    "eff_model = timm.create_model('tf_efficientnet_b8',pretrained='True',num_classes=12)\n"
   ]
  },
  {
   "cell_type": "code",
   "execution_count": 29,
   "id": "4fe48bc9-27c4-4443-a81e-87838bf84776",
   "metadata": {},
   "outputs": [],
   "source": [
    "eff_model_focal_sampler  = LitModel_Focal(model=eff_model)\n"
   ]
  },
  {
   "cell_type": "code",
   "execution_count": null,
   "id": "08da91de-025d-4fc7-afb5-5c2fabf4f99e",
   "metadata": {
    "tags": []
   },
   "outputs": [
    {
     "name": "stderr",
     "output_type": "stream",
     "text": [
      "GPU available: True, used: True\n",
      "TPU available: False, using: 0 TPU cores\n",
      "IPU available: False, using: 0 IPUs\n",
      "LOCAL_RANK: 0 - CUDA_VISIBLE_DEVICES: [0]\n",
      "Set SLURM handle signals.\n",
      "\n",
      "  | Name       | Type         | Params\n",
      "--------------------------------------------\n",
      "0 | model      | EfficientNet | 84.6 M\n",
      "1 | focal_loss | FocalLoss    | 0     \n",
      "2 | f1_score   | F1           | 0     \n",
      "--------------------------------------------\n",
      "84.6 M    Trainable params\n",
      "0         Non-trainable params\n",
      "84.6 M    Total params\n",
      "338.520   Total estimated model params size (MB)\n"
     ]
    },
    {
     "name": "stdout",
     "output_type": "stream",
     "text": [
      "Epoch     0: adjusting learning rate of group 0 to 2.0000e-04.\n",
      "Epoch 0:  44%|████▎     | 879/2018 [04:05<05:17,  3.58it/s, loss=0.15, v_num=1735074, train_F1w=0.667] "
     ]
    }
   ],
   "source": [
    "checkpoint_callback = ModelCheckpoint(dirpath='/mnt/gpid08/datasets/remote_sensing/tmp_from_gpid07/honey/results/', \n",
    "                                      filename='EffB8-Focal-Sampler-DAv2-{epoch}-{val_loss:.2f}-{avg_val_f1w:.2f}',\n",
    "                                      monitor='avg_val_f1w',\n",
    "                                      verbose=True,\n",
    "                                      save_last=None,\n",
    "                                      save_top_k=1,\n",
    "                                      save_weights_only=False,\n",
    "                                      mode='max',\n",
    "                                      auto_insert_metric_name=True,\n",
    "                                      )\n",
    "\n",
    "\n",
    "early_stop_callback = EarlyStopping(monitor='EarlyStop_Log',\\\n",
    "                                    min_delta=0.00,\\\n",
    "                                    patience=5,\\\n",
    "                                    verbose=False,\\\n",
    "                                    mode='min')\n",
    "    \n",
    "\n",
    "## Sanity-check\n",
    "trainer = pl.Trainer(gpus=gpu,\n",
    "                     callbacks=[checkpoint_callback,\n",
    "                                early_stop_callback,\n",
    "                               ],\n",
    "                    #  deterministic=True,\n",
    "                     enable_progress_bar=True,\n",
    "                    #  progress_bar_\n",
    "                    #  limit_train_batches=2,\n",
    "                    #  limit_val_batches=2,\n",
    "                     max_epochs=20)\n",
    "\n",
    "# Then you call the fit method passing the PL-module and PL-Datamodule, to start training.\n",
    "trainer.fit(eff_model_focal_sampler, dm)\n",
    "\n",
    "\n",
    "\n",
    "    "
   ]
  },
  {
   "cell_type": "code",
   "execution_count": 14,
   "id": "4e4dfc25-d131-4ca6-925a-b88f3ef119af",
   "metadata": {},
   "outputs": [
    {
     "name": "stdout",
     "output_type": "stream",
     "text": [
      "                        precision    recall  f1-score   support\n",
      "\n",
      "                 Pinus       0.87      0.96      0.92        28\n",
      "               Erica.m       0.94      0.99      0.97       184\n",
      "             Cistus sp       0.82      0.96      0.89        69\n",
      "             Lavandula       1.00      0.89      0.94        74\n",
      "             Citrus sp       0.67      0.96      0.79        53\n",
      "     Helianthus annuus       0.98      1.00      0.99        91\n",
      "        Eucalyptus sp.       1.00      0.84      0.91        95\n",
      "Rosmarinus officinalis       0.91      0.92      0.91        52\n",
      "              Brassica       0.98      0.87      0.92       140\n",
      "                Cardus       1.00      0.63      0.77        19\n",
      "                 Tilia       1.00      0.94      0.97        67\n",
      "             Taraxacum       1.00      0.96      0.98        25\n",
      "\n",
      "              accuracy                           0.93       897\n",
      "             macro avg       0.93      0.91      0.91       897\n",
      "          weighted avg       0.94      0.93      0.93       897\n",
      "\n",
      "CPU times: user 40.6 s, sys: 380 ms, total: 41 s\n",
      "Wall time: 42.6 s\n"
     ]
    }
   ],
   "source": [
    "%%time\n",
    "model_name = \"EffB7-Focal-Sampler-DA-epoch=8-val_loss=0.01-avg_val_f1w=0.99.ckpt\"\n",
    "baseline_model  = LitModel_Focal(model=eff_model)\n",
    "\n",
    "\n",
    "checkpoint =  torch.load('/mnt/gpid08/datasets/remote_sensing/tmp_from_gpid07/honey/results/'+ model_name)\n",
    "\n",
    "baseline_model.load_state_dict(checkpoint['state_dict'])\n",
    "# baseline_model.load_from_checkpoint(\"Base-epoch=1-val_loss=0.05-avg_val_f1w=0.98.ckpt\")\n",
    "\n",
    "targets, preds, pred_score = [],[],[]\n",
    "baseline_model.to('cuda')\n",
    "for ii, data in enumerate(dm.test_dataloader()):\n",
    "    with torch.no_grad():\n",
    "        targets.append(data['target'].numpy()) #torch.argmax(data['target'],dim=1).numpy()\n",
    "        # y = y.reshape((-1,1))\n",
    "        # print(y.shape)\n",
    "        ## inference\n",
    "        o = baseline_model.predict(data['image'].to('cuda'))\n",
    "        o1 = torch.argmax(o, axis=1).cpu().numpy()\n",
    "        # print(o.shape)\n",
    "        preds.append(o1)\n",
    "        pred_score.append(torch.softmax(o,axis=1))\n",
    "        # print(y)\n",
    "        # print(o)\n",
    "        # if ii==2:\n",
    "        #   break\n",
    "# print(ii)\n",
    "preds2 = np.vstack([x for x in preds]).reshape(-1,1)\n",
    "targets2 = np.vstack([x for x in targets]).reshape(-1,1)\n",
    "pred_score2 = np.vstack([x.cpu().numpy() for x in pred_score]).reshape(-1,12)\n",
    "\n",
    "target_names = ['Pinus','Erica.m', 'Cistus sp', 'Lavandula', 'Citrus sp', 'Helianthus annuus',\n",
    "          'Eucalyptus sp.', 'Rosmarinus officinalis', 'Brassica', 'Cardus', 'Tilia', 'Taraxacum']\n",
    "\n",
    "print(classification_report(targets2, preds2, target_names=target_names))\n"
   ]
  },
  {
   "cell_type": "code",
   "execution_count": 55,
   "id": "88966c80-a51b-43a6-a1d9-652f6bc4a5dd",
   "metadata": {},
   "outputs": [
    {
     "data": {
      "text/plain": [
       "(897, 12)"
      ]
     },
     "execution_count": 55,
     "metadata": {},
     "output_type": "execute_result"
    }
   ],
   "source": [
    "pred_score2 = np.vstack([x.cpu().numpy() for x in pred_score]).reshape(-1,12)\n",
    "pred_score2.shape"
   ]
  },
  {
   "cell_type": "code",
   "execution_count": 17,
   "id": "3321164c-1d12-4739-aafc-30053cb9edfe",
   "metadata": {},
   "outputs": [],
   "source": [
    "# from torchmetrics.functional import \n",
    "from sklearn.metrics import roc_auc_score"
   ]
  },
  {
   "cell_type": "code",
   "execution_count": 18,
   "id": "2cb1a589-3ac8-46fe-a1a7-5441bb9a0a6e",
   "metadata": {},
   "outputs": [
    {
     "data": {
      "text/plain": [
       "0.9936082764574827"
      ]
     },
     "execution_count": 18,
     "metadata": {},
     "output_type": "execute_result"
    }
   ],
   "source": [
    "roc_auc_score(targets2[:,0], pred_score2, multi_class='ovr')\n"
   ]
  },
  {
   "cell_type": "code",
   "execution_count": 19,
   "id": "784a8eea-4efa-467b-934d-c434880d6f55",
   "metadata": {},
   "outputs": [
    {
     "data": {
      "text/plain": [
       "0.9963687711757478"
      ]
     },
     "execution_count": 19,
     "metadata": {},
     "output_type": "execute_result"
    }
   ],
   "source": [
    "roc_auc_score(targets2[:,0], pred_score2, multi_class='ovr', average='weighted')\n"
   ]
  },
  {
   "cell_type": "code",
   "execution_count": 58,
   "id": "edec550e-7d02-4dc8-b388-2a7f4540678f",
   "metadata": {},
   "outputs": [
    {
     "data": {
      "text/plain": [
       "0.9868717358461957"
      ]
     },
     "execution_count": 58,
     "metadata": {},
     "output_type": "execute_result"
    }
   ],
   "source": [
    "roc_auc_score(targets2[:,0], pred_score2, multi_class='ovo', average='weighted')\n"
   ]
  },
  {
   "cell_type": "code",
   "execution_count": 21,
   "id": "e669d727-00db-451a-a562-77dd6ffd1063",
   "metadata": {},
   "outputs": [],
   "source": []
  },
  {
   "cell_type": "code",
   "execution_count": 22,
   "id": "60538e34-c268-4281-ab7c-5a19b230be8a",
   "metadata": {},
   "outputs": [],
   "source": [
    "cm = confusion_matrix(targets2, preds2, normalize='true')"
   ]
  },
  {
   "cell_type": "code",
   "execution_count": 23,
   "id": "dc9bb3e3-e1e9-4764-b864-412553c5b27c",
   "metadata": {},
   "outputs": [],
   "source": [
    "import seaborn as sns"
   ]
  },
  {
   "cell_type": "code",
   "execution_count": 24,
   "id": "44ee8fdf-5b22-4e1a-921c-773d2cf2927c",
   "metadata": {},
   "outputs": [
    {
     "data": {
      "text/plain": [
       "Text(0.5, 1.0, 'Normalized (rows) Confusion Matrix')"
      ]
     },
     "execution_count": 24,
     "metadata": {},
     "output_type": "execute_result"
    },
    {
     "data": {
      "image/png": "[encoded data removed]",
      "text/plain": [
       "<Figure size 864x576 with 2 Axes>"
      ]
     },
     "metadata": {
      "needs_background": "light"
     },
     "output_type": "display_data"
    }
   ],
   "source": [
    "plt.figure(figsize=(12,8))\n",
    "sns.heatmap(cm, annot=True, fmt='.1f')\n",
    "plt.title('Normalized (rows) Confusion Matrix')"
   ]
  },
  {
   "cell_type": "code",
   "execution_count": 25,
   "id": "2ed79926-1f1e-458e-950a-9312e2fd370b",
   "metadata": {},
   "outputs": [
    {
     "data": {
      "text/plain": [
       "Text(0.5, 1.0, 'Normalized (pred) Confusion Matrix')"
      ]
     },
     "execution_count": 25,
     "metadata": {},
     "output_type": "execute_result"
    },
    {
     "data": {
      "image/png": "[encoded data removed]",
      "text/plain": [
       "<Figure size 864x576 with 2 Axes>"
      ]
     },
     "metadata": {
      "needs_background": "light"
     },
     "output_type": "display_data"
    }
   ],
   "source": [
    "cm = confusion_matrix(targets2, preds2, normalize='pred')\n",
    "plt.figure(figsize=(12,8))\n",
    "sns.heatmap(cm, annot=True, fmt='.1f')\n",
    "plt.title('Normalized (pred) Confusion Matrix')"
   ]
  },
  {
   "cell_type": "code",
   "execution_count": null,
   "id": "cfa1731d-408e-474d-b0b1-82f00bb2a315",
   "metadata": {},
   "outputs": [],
   "source": []
  }
 ],
 "metadata": {
  "kernelspec": {
   "display_name": "Python 3 (ipykernel)",
   "language": "python",
   "name": "python3"
  },
  "language_info": {
   "codemirror_mode": {
    "name": "ipython",
    "version": 3
   },
   "file_extension": ".py",
   "mimetype": "text/x-python",
   "name": "python",
   "nbconvert_exporter": "python",
   "pygments_lexer": "ipython3",
   "version": "3.8.12"
  }
 },
 "nbformat": 4,
 "nbformat_minor": 5
}
